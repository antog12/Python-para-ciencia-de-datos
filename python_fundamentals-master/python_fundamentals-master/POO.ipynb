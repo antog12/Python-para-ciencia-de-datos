{
 "cells": [
  {
   "cell_type": "code",
   "execution_count": 10,
   "id": "c53b57a1",
   "metadata": {},
   "outputs": [],
   "source": [
    "class Persona:\n",
    "    \"\"\"Clase que representa una persona\"\"\"\n",
    "    cedula=\"ROVA950203\"\n",
    "    nombre= \"Africa\"\n",
    "    apellido=\"Rodriguez\"\n",
    "    sexo=\"F\"\n",
    "    \n",
    "    \"\"\"Le voy a poner un métod para hablar\"\"\"\n",
    "    \n",
    "    def hablar(self, mensaje):\n",
    "        \"\"\"muestro mensaje de saludo de persona\"\"\"\n",
    "        return mensaje\n",
    "        \n",
    "    "
   ]
  },
  {
   "cell_type": "code",
   "execution_count": 2,
   "id": "44d80948",
   "metadata": {},
   "outputs": [],
   "source": [
    "sahara=Persona"
   ]
  },
  {
   "cell_type": "code",
   "execution_count": 13,
   "id": "8ee29f4b",
   "metadata": {},
   "outputs": [
    {
     "data": {
      "text/plain": [
       "'Hola, soy de la clase Persona.'"
      ]
     },
     "execution_count": 13,
     "metadata": {},
     "output_type": "execute_result"
    }
   ],
   "source": [
    "Persona().hablar(\"Hola, soy de la clase {0}.\".format(sahara.__name__))"
   ]
  },
  {
   "cell_type": "code",
   "execution_count": 14,
   "id": "fb4e7d94",
   "metadata": {},
   "outputs": [
    {
     "data": {
      "text/plain": [
       "method"
      ]
     },
     "execution_count": 14,
     "metadata": {},
     "output_type": "execute_result"
    }
   ],
   "source": [
    "type(Persona().hablar)"
   ]
  },
  {
   "cell_type": "code",
   "execution_count": null,
   "id": "97d2bc05",
   "metadata": {},
   "outputs": [],
   "source": []
  },
  {
   "cell_type": "code",
   "execution_count": 3,
   "id": "6d0f4992",
   "metadata": {},
   "outputs": [
    {
     "data": {
      "text/plain": [
       "__main__.Persona"
      ]
     },
     "execution_count": 3,
     "metadata": {},
     "output_type": "execute_result"
    }
   ],
   "source": [
    "sahara"
   ]
  },
  {
   "cell_type": "code",
   "execution_count": 4,
   "id": "2b06ec57",
   "metadata": {},
   "outputs": [
    {
     "data": {
      "text/plain": [
       "'ROVA950203'"
      ]
     },
     "execution_count": 4,
     "metadata": {},
     "output_type": "execute_result"
    }
   ],
   "source": [
    "sahara.cedula"
   ]
  },
  {
   "cell_type": "code",
   "execution_count": 5,
   "id": "b2ab3832",
   "metadata": {},
   "outputs": [
    {
     "data": {
      "text/plain": [
       "'Africa'"
      ]
     },
     "execution_count": 5,
     "metadata": {},
     "output_type": "execute_result"
    }
   ],
   "source": [
    "sahara.nombre"
   ]
  },
  {
   "cell_type": "code",
   "execution_count": 6,
   "id": "f93e93a9",
   "metadata": {},
   "outputs": [
    {
     "data": {
      "text/plain": [
       "type"
      ]
     },
     "execution_count": 6,
     "metadata": {},
     "output_type": "execute_result"
    }
   ],
   "source": [
    "sahara.__class__"
   ]
  },
  {
   "cell_type": "code",
   "execution_count": 7,
   "id": "f9ef56c9",
   "metadata": {},
   "outputs": [
    {
     "data": {
      "text/plain": [
       "'Clase que representa una persona'"
      ]
     },
     "execution_count": 7,
     "metadata": {},
     "output_type": "execute_result"
    }
   ],
   "source": [
    "sahara.__doc__"
   ]
  },
  {
   "cell_type": "code",
   "execution_count": 8,
   "id": "880b8b46",
   "metadata": {},
   "outputs": [
    {
     "name": "stdout",
     "output_type": "stream",
     "text": [
      "el objeto de la clasePersona,Clase que representa una persona.\n"
     ]
    }
   ],
   "source": [
    "print(\"el objeto de la clase\" + sahara.__name__+\",\"+sahara.__doc__+\".\")"
   ]
  },
  {
   "cell_type": "code",
   "execution_count": 9,
   "id": "91e00ed6",
   "metadata": {},
   "outputs": [
    {
     "data": {
      "text/plain": [
       "['__class__',\n",
       " '__delattr__',\n",
       " '__dict__',\n",
       " '__dir__',\n",
       " '__doc__',\n",
       " '__eq__',\n",
       " '__format__',\n",
       " '__ge__',\n",
       " '__getattribute__',\n",
       " '__gt__',\n",
       " '__hash__',\n",
       " '__init__',\n",
       " '__init_subclass__',\n",
       " '__le__',\n",
       " '__lt__',\n",
       " '__module__',\n",
       " '__ne__',\n",
       " '__new__',\n",
       " '__reduce__',\n",
       " '__reduce_ex__',\n",
       " '__repr__',\n",
       " '__setattr__',\n",
       " '__sizeof__',\n",
       " '__str__',\n",
       " '__subclasshook__',\n",
       " '__weakref__',\n",
       " 'apellido',\n",
       " 'cedula',\n",
       " 'nombre',\n",
       " 'sexo']"
      ]
     },
     "execution_count": 9,
     "metadata": {},
     "output_type": "execute_result"
    }
   ],
   "source": [
    "dir(sahara)# atributos que tiene el objeto sahara"
   ]
  },
  {
   "cell_type": "code",
   "execution_count": 15,
   "id": "9734f40d",
   "metadata": {},
   "outputs": [
    {
     "ename": "SyntaxError",
     "evalue": "invalid syntax (Temp/ipykernel_18888/2221324222.py, line 12)",
     "output_type": "error",
     "traceback": [
      "\u001b[1;36m  File \u001b[1;32m\"C:\\Users\\p-aangel\\AppData\\Local\\Temp/ipykernel_18888/2221324222.py\"\u001b[1;36m, line \u001b[1;32m12\u001b[0m\n\u001b[1;33m    self.tareas =[\"10\",\"11\", \"12\", \"13\"] .3 las tareas son propias del supervisor\u001b[0m\n\u001b[1;37m                                         ^\u001b[0m\n\u001b[1;31mSyntaxError\u001b[0m\u001b[1;31m:\u001b[0m invalid syntax\n"
     ]
    }
   ],
   "source": [
    " class Supervisor(Persona):\n",
    "        \"\"\"Clase que representa un supervisor\"\"\"\n",
    "        \n",
    "        def __init__(self, cedula, nombre,apellido, sexo, rol):\n",
    "            \"\"\"Constructor de clase supervisor\"\"\"\n",
    "            \n",
    "            #invoco al constructor de clase persona\n",
    "            Persona.__init__(self,cedula,nombre,apellido,sexo)\n",
    "            \n",
    "            #nuevos atributos\n",
    "            self.rol= rol\n",
    "            self.tareas =[\"10\",\"11\", \"12\", \"13\"] .3 las tareas son propias del supervisor\n",
    "            \n",
    "        def __str__(self):\n",
    "            \"\"\"devuelve una cadena representativa del supervisor\"\"\"\n",
    "            return \"%s: %s %s, rol: '%s', sus tareas: %s.\" %self.__doc__[26:37], self.nombre, self.apellido, self.rol, self.consulta_tareas()\n",
    "        \n",
    "        def consulta_tareas(self):\n",
    "            \"\"\"mostrar las tareas del supervisor\"\"\"\n",
    "            return \", \".join(self.tareas)\n",
    "            \n",
    "        "
   ]
  },
  {
   "cell_type": "code",
   "execution_count": null,
   "id": "dd905383",
   "metadata": {},
   "outputs": [],
   "source": [
    "supervisor1= Supervisor(\"v-16151855\", \" Andrés\", \"Nortes\", \"X\", \" Consultante\")"
   ]
  }
 ],
 "metadata": {
  "kernelspec": {
   "display_name": "Python 3 (ipykernel)",
   "language": "python",
   "name": "python3"
  },
  "language_info": {
   "codemirror_mode": {
    "name": "ipython",
    "version": 3
   },
   "file_extension": ".py",
   "mimetype": "text/x-python",
   "name": "python",
   "nbconvert_exporter": "python",
   "pygments_lexer": "ipython3",
   "version": "3.9.7"
  }
 },
 "nbformat": 4,
 "nbformat_minor": 5
}
