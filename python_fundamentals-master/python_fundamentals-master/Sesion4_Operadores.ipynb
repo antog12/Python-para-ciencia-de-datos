{
 "cells": [
  {
   "cell_type": "code",
   "execution_count": 1,
   "id": "b5feb40d",
   "metadata": {},
   "outputs": [],
   "source": [
    "a=2"
   ]
  },
  {
   "cell_type": "code",
   "execution_count": 2,
   "id": "b48cc467",
   "metadata": {},
   "outputs": [],
   "source": [
    "a+=10"
   ]
  },
  {
   "cell_type": "code",
   "execution_count": 3,
   "id": "cc1a5c76",
   "metadata": {},
   "outputs": [
    {
     "data": {
      "text/plain": [
       "12"
      ]
     },
     "execution_count": 3,
     "metadata": {},
     "output_type": "execute_result"
    }
   ],
   "source": [
    "a"
   ]
  },
  {
   "cell_type": "code",
   "execution_count": 4,
   "id": "f7213655",
   "metadata": {},
   "outputs": [],
   "source": [
    "a = a +10"
   ]
  },
  {
   "cell_type": "code",
   "execution_count": 5,
   "id": "04afa2cb",
   "metadata": {},
   "outputs": [
    {
     "data": {
      "text/plain": [
       "22"
      ]
     },
     "execution_count": 5,
     "metadata": {},
     "output_type": "execute_result"
    }
   ],
   "source": [
    "a"
   ]
  },
  {
   "cell_type": "code",
   "execution_count": 6,
   "id": "b1ab2aaf",
   "metadata": {},
   "outputs": [],
   "source": [
    "a-=10"
   ]
  },
  {
   "cell_type": "code",
   "execution_count": 7,
   "id": "315c6af8",
   "metadata": {},
   "outputs": [
    {
     "data": {
      "text/plain": [
       "12"
      ]
     },
     "execution_count": 7,
     "metadata": {},
     "output_type": "execute_result"
    }
   ],
   "source": [
    "a"
   ]
  },
  {
   "cell_type": "code",
   "execution_count": 8,
   "id": "42e14eb6",
   "metadata": {},
   "outputs": [
    {
     "data": {
      "text/plain": [
       "120"
      ]
     },
     "execution_count": 8,
     "metadata": {},
     "output_type": "execute_result"
    }
   ],
   "source": [
    "a*10"
   ]
  },
  {
   "cell_type": "code",
   "execution_count": 9,
   "id": "623701fe",
   "metadata": {},
   "outputs": [],
   "source": [
    "a*=-10"
   ]
  },
  {
   "cell_type": "code",
   "execution_count": 10,
   "id": "99575f08",
   "metadata": {},
   "outputs": [
    {
     "data": {
      "text/plain": [
       "-120"
      ]
     },
     "execution_count": 10,
     "metadata": {},
     "output_type": "execute_result"
    }
   ],
   "source": [
    "a"
   ]
  },
  {
   "cell_type": "code",
   "execution_count": 11,
   "id": "0fa76f65",
   "metadata": {},
   "outputs": [],
   "source": [
    "r=3"
   ]
  },
  {
   "cell_type": "code",
   "execution_count": 12,
   "id": "03f47d27",
   "metadata": {},
   "outputs": [],
   "source": [
    "r/=10"
   ]
  },
  {
   "cell_type": "code",
   "execution_count": 13,
   "id": "f0122e07",
   "metadata": {},
   "outputs": [
    {
     "data": {
      "text/plain": [
       "0.3"
      ]
     },
     "execution_count": 13,
     "metadata": {},
     "output_type": "execute_result"
    }
   ],
   "source": [
    "r"
   ]
  },
  {
   "cell_type": "code",
   "execution_count": 14,
   "id": "dd6f10be",
   "metadata": {},
   "outputs": [],
   "source": [
    "r**=2"
   ]
  },
  {
   "cell_type": "code",
   "execution_count": 15,
   "id": "c0c607c5",
   "metadata": {},
   "outputs": [
    {
     "data": {
      "text/plain": [
       "0.09"
      ]
     },
     "execution_count": 15,
     "metadata": {},
     "output_type": "execute_result"
    }
   ],
   "source": [
    "r"
   ]
  },
  {
   "cell_type": "code",
   "execution_count": 16,
   "id": "240c0171",
   "metadata": {},
   "outputs": [],
   "source": [
    "r=3"
   ]
  },
  {
   "cell_type": "code",
   "execution_count": 17,
   "id": "f33dd572",
   "metadata": {},
   "outputs": [
    {
     "ename": "SyntaxError",
     "evalue": "invalid syntax (Temp/ipykernel_16924/702396572.py, line 1)",
     "output_type": "error",
     "traceback": [
      "\u001b[1;36m  File \u001b[1;32m\"C:\\Users\\p-aangel\\AppData\\Local\\Temp/ipykernel_16924/702396572.py\"\u001b[1;36m, line \u001b[1;32m1\u001b[0m\n\u001b[1;33m    r**\u001b[0m\n\u001b[1;37m       ^\u001b[0m\n\u001b[1;31mSyntaxError\u001b[0m\u001b[1;31m:\u001b[0m invalid syntax\n"
     ]
    }
   ],
   "source": [
    "r**"
   ]
  },
  {
   "cell_type": "code",
   "execution_count": 18,
   "id": "840f22f3",
   "metadata": {},
   "outputs": [],
   "source": [
    "r**=2"
   ]
  },
  {
   "cell_type": "code",
   "execution_count": 19,
   "id": "19f235f8",
   "metadata": {},
   "outputs": [
    {
     "data": {
      "text/plain": [
       "9"
      ]
     },
     "execution_count": 19,
     "metadata": {},
     "output_type": "execute_result"
    }
   ],
   "source": [
    "r"
   ]
  },
  {
   "cell_type": "code",
   "execution_count": 20,
   "id": "1e9ece1f",
   "metadata": {},
   "outputs": [],
   "source": [
    "r**=3"
   ]
  },
  {
   "cell_type": "code",
   "execution_count": 21,
   "id": "4128016b",
   "metadata": {},
   "outputs": [
    {
     "data": {
      "text/plain": [
       "729"
      ]
     },
     "execution_count": 21,
     "metadata": {},
     "output_type": "execute_result"
    }
   ],
   "source": [
    "r"
   ]
  },
  {
   "cell_type": "code",
   "execution_count": 22,
   "id": "4e992d1b",
   "metadata": {},
   "outputs": [],
   "source": [
    "r=3"
   ]
  },
  {
   "cell_type": "code",
   "execution_count": 23,
   "id": "1236b307",
   "metadata": {},
   "outputs": [],
   "source": [
    "r**=3"
   ]
  },
  {
   "cell_type": "code",
   "execution_count": 24,
   "id": "f8d9e9c6",
   "metadata": {},
   "outputs": [
    {
     "data": {
      "text/plain": [
       "27"
      ]
     },
     "execution_count": 24,
     "metadata": {},
     "output_type": "execute_result"
    }
   ],
   "source": [
    "r"
   ]
  },
  {
   "cell_type": "code",
   "execution_count": 25,
   "id": "850be326",
   "metadata": {},
   "outputs": [],
   "source": [
    "r=3"
   ]
  },
  {
   "cell_type": "code",
   "execution_count": 26,
   "id": "dc894fe9",
   "metadata": {},
   "outputs": [],
   "source": [
    "r//=10 #esta división me va a dar la división entera"
   ]
  },
  {
   "cell_type": "code",
   "execution_count": 27,
   "id": "bf1410d2",
   "metadata": {},
   "outputs": [
    {
     "data": {
      "text/plain": [
       "0"
      ]
     },
     "execution_count": 27,
     "metadata": {},
     "output_type": "execute_result"
    }
   ],
   "source": [
    "r # el resultado es 0.3 y me devuelve el lado izq del valor entero"
   ]
  },
  {
   "cell_type": "code",
   "execution_count": 28,
   "id": "fe24e266",
   "metadata": {},
   "outputs": [],
   "source": [
    "# convertir un decimal en entero\n",
    "r=2"
   ]
  },
  {
   "cell_type": "code",
   "execution_count": 29,
   "id": "26012d47",
   "metadata": {},
   "outputs": [],
   "source": [
    "r*=0.2"
   ]
  },
  {
   "cell_type": "code",
   "execution_count": 30,
   "id": "6bf7f656",
   "metadata": {},
   "outputs": [
    {
     "data": {
      "text/plain": [
       "0.4"
      ]
     },
     "execution_count": 30,
     "metadata": {},
     "output_type": "execute_result"
    }
   ],
   "source": [
    "r"
   ]
  },
  {
   "cell_type": "code",
   "execution_count": 31,
   "id": "4e0b5235",
   "metadata": {},
   "outputs": [
    {
     "data": {
      "text/plain": [
       "0"
      ]
     },
     "execution_count": 31,
     "metadata": {},
     "output_type": "execute_result"
    }
   ],
   "source": [
    "int(r) # lo convierto a entero"
   ]
  },
  {
   "cell_type": "code",
   "execution_count": 32,
   "id": "97f812cd",
   "metadata": {},
   "outputs": [
    {
     "data": {
      "text/plain": [
       "0.4"
      ]
     },
     "execution_count": 32,
     "metadata": {},
     "output_type": "execute_result"
    }
   ],
   "source": [
    "r"
   ]
  },
  {
   "cell_type": "code",
   "execution_count": 33,
   "id": "44f30651",
   "metadata": {},
   "outputs": [
    {
     "data": {
      "text/plain": [
       "0.4"
      ]
     },
     "execution_count": 33,
     "metadata": {},
     "output_type": "execute_result"
    }
   ],
   "source": [
    "float(r)"
   ]
  },
  {
   "cell_type": "code",
   "execution_count": 34,
   "id": "c43fc574",
   "metadata": {},
   "outputs": [],
   "source": [
    "r=2.7"
   ]
  },
  {
   "cell_type": "code",
   "execution_count": 35,
   "id": "3128201c",
   "metadata": {},
   "outputs": [],
   "source": [
    "r%=10"
   ]
  },
  {
   "cell_type": "code",
   "execution_count": 36,
   "id": "f5dd08d0",
   "metadata": {},
   "outputs": [
    {
     "data": {
      "text/plain": [
       "2.7"
      ]
     },
     "execution_count": 36,
     "metadata": {},
     "output_type": "execute_result"
    }
   ],
   "source": [
    "r"
   ]
  },
  {
   "cell_type": "code",
   "execution_count": 37,
   "id": "eaa64aac",
   "metadata": {},
   "outputs": [],
   "source": [
    "r=27"
   ]
  },
  {
   "cell_type": "code",
   "execution_count": 38,
   "id": "f9c8e094",
   "metadata": {},
   "outputs": [],
   "source": [
    "r%=10"
   ]
  },
  {
   "cell_type": "code",
   "execution_count": 39,
   "id": "0c5866e4",
   "metadata": {},
   "outputs": [
    {
     "data": {
      "text/plain": [
       "7"
      ]
     },
     "execution_count": 39,
     "metadata": {},
     "output_type": "execute_result"
    }
   ],
   "source": [
    "r"
   ]
  },
  {
   "cell_type": "code",
   "execution_count": 40,
   "id": "63eabc6a",
   "metadata": {},
   "outputs": [],
   "source": [
    "contador =1"
   ]
  },
  {
   "cell_type": "code",
   "execution_count": 41,
   "id": "72602f72",
   "metadata": {},
   "outputs": [],
   "source": [
    "contador=contador+1"
   ]
  },
  {
   "cell_type": "code",
   "execution_count": 42,
   "id": "cb56cedb",
   "metadata": {},
   "outputs": [
    {
     "data": {
      "text/plain": [
       "2"
      ]
     },
     "execution_count": 42,
     "metadata": {},
     "output_type": "execute_result"
    }
   ],
   "source": [
    "contador"
   ]
  },
  {
   "cell_type": "code",
   "execution_count": 43,
   "id": "7bdac10e",
   "metadata": {},
   "outputs": [],
   "source": [
    "contador+=1"
   ]
  },
  {
   "cell_type": "code",
   "execution_count": 44,
   "id": "390d9a76",
   "metadata": {},
   "outputs": [
    {
     "data": {
      "text/plain": [
       "3"
      ]
     },
     "execution_count": 44,
     "metadata": {},
     "output_type": "execute_result"
    }
   ],
   "source": [
    "contador"
   ]
  },
  {
   "cell_type": "code",
   "execution_count": 45,
   "id": "7b4a752c",
   "metadata": {},
   "outputs": [],
   "source": [
    "contador=100"
   ]
  },
  {
   "cell_type": "code",
   "execution_count": 46,
   "id": "71835783",
   "metadata": {},
   "outputs": [],
   "source": [
    "contador=contador-1"
   ]
  },
  {
   "cell_type": "code",
   "execution_count": 47,
   "id": "282b754c",
   "metadata": {},
   "outputs": [
    {
     "data": {
      "text/plain": [
       "99"
      ]
     },
     "execution_count": 47,
     "metadata": {},
     "output_type": "execute_result"
    }
   ],
   "source": [
    "contador"
   ]
  },
  {
   "cell_type": "code",
   "execution_count": 48,
   "id": "0f4ef11d",
   "metadata": {},
   "outputs": [],
   "source": [
    "contador=234560"
   ]
  },
  {
   "cell_type": "raw",
   "id": "6446b4b2",
   "metadata": {},
   "source": [
    "contador/=2"
   ]
  },
  {
   "cell_type": "code",
   "execution_count": 49,
   "id": "f7bdf845",
   "metadata": {},
   "outputs": [
    {
     "data": {
      "text/plain": [
       "234560"
      ]
     },
     "execution_count": 49,
     "metadata": {},
     "output_type": "execute_result"
    }
   ],
   "source": [
    "contador"
   ]
  },
  {
   "cell_type": "code",
   "execution_count": 50,
   "id": "ee8707bf",
   "metadata": {},
   "outputs": [],
   "source": [
    "contador/=2"
   ]
  },
  {
   "cell_type": "code",
   "execution_count": 51,
   "id": "9524c99f",
   "metadata": {},
   "outputs": [
    {
     "data": {
      "text/plain": [
       "117280.0"
      ]
     },
     "execution_count": 51,
     "metadata": {},
     "output_type": "execute_result"
    }
   ],
   "source": [
    "contador"
   ]
  },
  {
   "cell_type": "code",
   "execution_count": 52,
   "id": "918e5ba3",
   "metadata": {},
   "outputs": [
    {
     "data": {
      "text/plain": [
       "False"
      ]
     },
     "execution_count": 52,
     "metadata": {},
     "output_type": "execute_result"
    }
   ],
   "source": [
    "3==8"
   ]
  },
  {
   "cell_type": "code",
   "execution_count": 54,
   "id": "2f2b4594",
   "metadata": {},
   "outputs": [
    {
     "data": {
      "text/plain": [
       "False"
      ]
     },
     "execution_count": 54,
     "metadata": {},
     "output_type": "execute_result"
    }
   ],
   "source": [
    "\"Sahara\"==True"
   ]
  },
  {
   "cell_type": "code",
   "execution_count": 55,
   "id": "d0ceb294",
   "metadata": {},
   "outputs": [
    {
     "data": {
      "text/plain": [
       "True"
      ]
     },
     "execution_count": 55,
     "metadata": {},
     "output_type": "execute_result"
    }
   ],
   "source": [
    "3==3"
   ]
  },
  {
   "cell_type": "code",
   "execution_count": 57,
   "id": "5570abe5",
   "metadata": {},
   "outputs": [
    {
     "data": {
      "text/plain": [
       "True"
      ]
     },
     "execution_count": 57,
     "metadata": {},
     "output_type": "execute_result"
    }
   ],
   "source": [
    "dia=23\n",
    "noche= 23\n",
    "dia==noche"
   ]
  },
  {
   "cell_type": "code",
   "execution_count": 58,
   "id": "a7346f81",
   "metadata": {},
   "outputs": [
    {
     "data": {
      "text/plain": [
       "True"
      ]
     },
     "execution_count": 58,
     "metadata": {},
     "output_type": "execute_result"
    }
   ],
   "source": [
    "type(dia)==int"
   ]
  },
  {
   "cell_type": "code",
   "execution_count": 59,
   "id": "fded2330",
   "metadata": {},
   "outputs": [],
   "source": [
    "dia=\"hola\"\n",
    "noche=\"adios\""
   ]
  },
  {
   "cell_type": "code",
   "execution_count": 60,
   "id": "4e79271f",
   "metadata": {},
   "outputs": [
    {
     "data": {
      "text/plain": [
       "False"
      ]
     },
     "execution_count": 60,
     "metadata": {},
     "output_type": "execute_result"
    }
   ],
   "source": [
    "dia==noche"
   ]
  },
  {
   "cell_type": "code",
   "execution_count": 61,
   "id": "33f10482",
   "metadata": {},
   "outputs": [
    {
     "data": {
      "text/plain": [
       "True"
      ]
     },
     "execution_count": 61,
     "metadata": {},
     "output_type": "execute_result"
    }
   ],
   "source": [
    "len(dia)<=len(noche)"
   ]
  },
  {
   "cell_type": "markdown",
   "id": "b52015a1",
   "metadata": {},
   "source": [
    "# Ejercicios"
   ]
  },
  {
   "cell_type": "code",
   "execution_count": 62,
   "id": "763b6df8",
   "metadata": {},
   "outputs": [],
   "source": [
    "# El doble de mi edad tiene 24 años. Cúantos años tengo?\n",
    "doble=24\n",
    "resultado=doble/2"
   ]
  },
  {
   "cell_type": "code",
   "execution_count": 63,
   "id": "78e824dc",
   "metadata": {},
   "outputs": [
    {
     "data": {
      "text/plain": [
       "12.0"
      ]
     },
     "execution_count": 63,
     "metadata": {},
     "output_type": "execute_result"
    }
   ],
   "source": [
    "resultado"
   ]
  },
  {
   "cell_type": "code",
   "execution_count": null,
   "id": "20edacd4",
   "metadata": {},
   "outputs": [],
   "source": [
    "# aun tercio de la edad de mi hermana la disminuyo en 15. Tengo 6 años. Qué edad tiene?\n",
    "1/3(x)-15=6\n",
    "# el resultado es 63"
   ]
  }
 ],
 "metadata": {
  "kernelspec": {
   "display_name": "Python 3 (ipykernel)",
   "language": "python",
   "name": "python3"
  },
  "language_info": {
   "codemirror_mode": {
    "name": "ipython",
    "version": 3
   },
   "file_extension": ".py",
   "mimetype": "text/x-python",
   "name": "python",
   "nbconvert_exporter": "python",
   "pygments_lexer": "ipython3",
   "version": "3.9.7"
  }
 },
 "nbformat": 4,
 "nbformat_minor": 5
}
