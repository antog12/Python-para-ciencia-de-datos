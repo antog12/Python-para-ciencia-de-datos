{
 "cells": [
  {
   "cell_type": "code",
   "execution_count": 1,
   "id": "35bc6283",
   "metadata": {},
   "outputs": [],
   "source": [
    "i=2"
   ]
  },
  {
   "cell_type": "code",
   "execution_count": 2,
   "id": "c8ffb693",
   "metadata": {},
   "outputs": [
    {
     "data": {
      "text/plain": [
       "int"
      ]
     },
     "execution_count": 2,
     "metadata": {},
     "output_type": "execute_result"
    }
   ],
   "source": [
    "type(1)"
   ]
  },
  {
   "cell_type": "code",
   "execution_count": 3,
   "id": "e1a0b3ae",
   "metadata": {},
   "outputs": [
    {
     "data": {
      "text/plain": [
       "int"
      ]
     },
     "execution_count": 3,
     "metadata": {},
     "output_type": "execute_result"
    }
   ],
   "source": [
    "type(i)"
   ]
  },
  {
   "cell_type": "code",
   "execution_count": 4,
   "id": "ed2e0cfe",
   "metadata": {},
   "outputs": [],
   "source": [
    "i=2,3"
   ]
  },
  {
   "cell_type": "code",
   "execution_count": 5,
   "id": "6154a535",
   "metadata": {},
   "outputs": [
    {
     "data": {
      "text/plain": [
       "tuple"
      ]
     },
     "execution_count": 5,
     "metadata": {},
     "output_type": "execute_result"
    }
   ],
   "source": [
    "type(i)"
   ]
  },
  {
   "cell_type": "code",
   "execution_count": 6,
   "id": "93342dcc",
   "metadata": {},
   "outputs": [],
   "source": [
    "i=2.3"
   ]
  },
  {
   "cell_type": "code",
   "execution_count": 7,
   "id": "53ae0373",
   "metadata": {
    "scrolled": false
   },
   "outputs": [
    {
     "data": {
      "text/plain": [
       "float"
      ]
     },
     "execution_count": 7,
     "metadata": {},
     "output_type": "execute_result"
    }
   ],
   "source": [
    "type(i)"
   ]
  },
  {
   "cell_type": "code",
   "execution_count": 8,
   "id": "df36143a",
   "metadata": {},
   "outputs": [],
   "source": [
    "nombre= \"Anto\""
   ]
  },
  {
   "cell_type": "code",
   "execution_count": 9,
   "id": "78ebc6c7",
   "metadata": {},
   "outputs": [
    {
     "name": "stdout",
     "output_type": "stream",
     "text": [
      "Anto\n"
     ]
    }
   ],
   "source": [
    "print(nombre)"
   ]
  },
  {
   "cell_type": "code",
   "execution_count": 10,
   "id": "71bf36ac",
   "metadata": {},
   "outputs": [],
   "source": [
    "cadena=\"hola mundo\""
   ]
  },
  {
   "cell_type": "code",
   "execution_count": 11,
   "id": "31117bcf",
   "metadata": {},
   "outputs": [
    {
     "name": "stdout",
     "output_type": "stream",
     "text": [
      "hola mundo\n"
     ]
    }
   ],
   "source": [
    "print(cadena)"
   ]
  },
  {
   "cell_type": "code",
   "execution_count": 12,
   "id": "7ec4f5a3",
   "metadata": {},
   "outputs": [],
   "source": [
    "numeros=123456"
   ]
  },
  {
   "cell_type": "code",
   "execution_count": 13,
   "id": "fcf00cb7",
   "metadata": {},
   "outputs": [
    {
     "data": {
      "text/plain": [
       "123456"
      ]
     },
     "execution_count": 13,
     "metadata": {},
     "output_type": "execute_result"
    }
   ],
   "source": [
    "numeros"
   ]
  },
  {
   "cell_type": "code",
   "execution_count": 14,
   "id": "90fd6a88",
   "metadata": {},
   "outputs": [],
   "source": [
    "tuplas=(\"hola\", 123, True)"
   ]
  },
  {
   "cell_type": "code",
   "execution_count": 15,
   "id": "aeca3176",
   "metadata": {},
   "outputs": [
    {
     "data": {
      "text/plain": [
       "tuple"
      ]
     },
     "execution_count": 15,
     "metadata": {},
     "output_type": "execute_result"
    }
   ],
   "source": [
    "type(tuplas)"
   ]
  },
  {
   "cell_type": "code",
   "execution_count": 16,
   "id": "657758cc",
   "metadata": {},
   "outputs": [],
   "source": [
    "tuplas=[\"hola\", 123, True]"
   ]
  },
  {
   "cell_type": "code",
   "execution_count": 17,
   "id": "c45ac77c",
   "metadata": {},
   "outputs": [
    {
     "data": {
      "text/plain": [
       "list"
      ]
     },
     "execution_count": 17,
     "metadata": {},
     "output_type": "execute_result"
    }
   ],
   "source": [
    "type(tuplas)"
   ]
  },
  {
   "cell_type": "code",
   "execution_count": 18,
   "id": "3377b44f",
   "metadata": {},
   "outputs": [],
   "source": [
    "tuplas={\"hola\":12, \"adios\": 34}"
   ]
  },
  {
   "cell_type": "code",
   "execution_count": 19,
   "id": "4a1a4d41",
   "metadata": {},
   "outputs": [
    {
     "data": {
      "text/plain": [
       "dict"
      ]
     },
     "execution_count": 19,
     "metadata": {},
     "output_type": "execute_result"
    }
   ],
   "source": [
    "type(tuplas)"
   ]
  },
  {
   "cell_type": "code",
   "execution_count": 20,
   "id": "e8682977",
   "metadata": {},
   "outputs": [],
   "source": [
    "numero, cadena, tuplas= 123, \"hola\", (123,456,789)"
   ]
  },
  {
   "cell_type": "code",
   "execution_count": 21,
   "id": "1b472656",
   "metadata": {},
   "outputs": [
    {
     "data": {
      "text/plain": [
       "123"
      ]
     },
     "execution_count": 21,
     "metadata": {},
     "output_type": "execute_result"
    }
   ],
   "source": [
    "numero"
   ]
  },
  {
   "cell_type": "code",
   "execution_count": 22,
   "id": "58f16c53",
   "metadata": {},
   "outputs": [
    {
     "data": {
      "text/plain": [
       "'hola'"
      ]
     },
     "execution_count": 22,
     "metadata": {},
     "output_type": "execute_result"
    }
   ],
   "source": [
    "cadena"
   ]
  },
  {
   "cell_type": "code",
   "execution_count": 23,
   "id": "fde71169",
   "metadata": {},
   "outputs": [
    {
     "data": {
      "text/plain": [
       "(123, 456, 789)"
      ]
     },
     "execution_count": 23,
     "metadata": {},
     "output_type": "execute_result"
    }
   ],
   "source": [
    "tuplas"
   ]
  },
  {
   "cell_type": "code",
   "execution_count": 24,
   "id": "cb292c85",
   "metadata": {},
   "outputs": [
    {
     "data": {
      "text/plain": [
       "{'__name__': '__main__',\n",
       " '__doc__': 'Automatically created module for IPython interactive environment',\n",
       " '__package__': None,\n",
       " '__loader__': None,\n",
       " '__spec__': None,\n",
       " '__builtin__': <module 'builtins' (built-in)>,\n",
       " '__builtins__': <module 'builtins' (built-in)>,\n",
       " '_ih': ['',\n",
       "  'i=2',\n",
       "  'type(1)',\n",
       "  'type(i)',\n",
       "  'i=2,3',\n",
       "  'type(i)',\n",
       "  'i=2.3',\n",
       "  'type(i)',\n",
       "  'nombre= \"Anto\"',\n",
       "  'print(nombre)',\n",
       "  'cadena=\"hola mundo\"',\n",
       "  'print(cadena)',\n",
       "  'numeros=123456',\n",
       "  'numeros',\n",
       "  'tuplas=(\"hola\", 123, True)',\n",
       "  'type(tuplas)',\n",
       "  'tuplas=[\"hola\", 123, True]',\n",
       "  'type(tuplas)',\n",
       "  'tuplas={\"hola\":12, \"adios\": 34}',\n",
       "  'type(tuplas)',\n",
       "  'numero, cadena, tuplas= 123, \"hola\", (123,456,789)',\n",
       "  'numero',\n",
       "  'cadena',\n",
       "  'tuplas',\n",
       "  'vars()'],\n",
       " '_oh': {2: int,\n",
       "  3: int,\n",
       "  5: tuple,\n",
       "  7: float,\n",
       "  13: 123456,\n",
       "  15: tuple,\n",
       "  17: list,\n",
       "  19: dict,\n",
       "  21: 123,\n",
       "  22: 'hola',\n",
       "  23: (123, 456, 789)},\n",
       " '_dh': ['C:\\\\Users\\\\p-aangel\\\\Documents\\\\Python_Fundamentals'],\n",
       " 'In': ['',\n",
       "  'i=2',\n",
       "  'type(1)',\n",
       "  'type(i)',\n",
       "  'i=2,3',\n",
       "  'type(i)',\n",
       "  'i=2.3',\n",
       "  'type(i)',\n",
       "  'nombre= \"Anto\"',\n",
       "  'print(nombre)',\n",
       "  'cadena=\"hola mundo\"',\n",
       "  'print(cadena)',\n",
       "  'numeros=123456',\n",
       "  'numeros',\n",
       "  'tuplas=(\"hola\", 123, True)',\n",
       "  'type(tuplas)',\n",
       "  'tuplas=[\"hola\", 123, True]',\n",
       "  'type(tuplas)',\n",
       "  'tuplas={\"hola\":12, \"adios\": 34}',\n",
       "  'type(tuplas)',\n",
       "  'numero, cadena, tuplas= 123, \"hola\", (123,456,789)',\n",
       "  'numero',\n",
       "  'cadena',\n",
       "  'tuplas',\n",
       "  'vars()'],\n",
       " 'Out': {2: int,\n",
       "  3: int,\n",
       "  5: tuple,\n",
       "  7: float,\n",
       "  13: 123456,\n",
       "  15: tuple,\n",
       "  17: list,\n",
       "  19: dict,\n",
       "  21: 123,\n",
       "  22: 'hola',\n",
       "  23: (123, 456, 789)},\n",
       " 'get_ipython': <bound method InteractiveShell.get_ipython of <ipykernel.zmqshell.ZMQInteractiveShell object at 0x000001DF9BBC13A0>>,\n",
       " 'exit': <IPython.core.autocall.ZMQExitAutocall at 0x1df9bbf9760>,\n",
       " 'quit': <IPython.core.autocall.ZMQExitAutocall at 0x1df9bbf9760>,\n",
       " '_': (123, 456, 789),\n",
       " '__': 'hola',\n",
       " '___': 123,\n",
       " '_i': 'tuplas',\n",
       " '_ii': 'cadena',\n",
       " '_iii': 'numero',\n",
       " '_i1': 'i=2',\n",
       " 'i': 2.3,\n",
       " '_i2': 'type(1)',\n",
       " '_2': int,\n",
       " '_i3': 'type(i)',\n",
       " '_3': int,\n",
       " '_i4': 'i=2,3',\n",
       " '_i5': 'type(i)',\n",
       " '_5': tuple,\n",
       " '_i6': 'i=2.3',\n",
       " '_i7': 'type(i)',\n",
       " '_7': float,\n",
       " '_i8': 'nombre= \"Anto\"',\n",
       " 'nombre': 'Anto',\n",
       " '_i9': 'print(nombre)',\n",
       " '_i10': 'cadena=\"hola mundo\"',\n",
       " 'cadena': 'hola',\n",
       " '_i11': 'print(cadena)',\n",
       " '_i12': 'numeros=123456',\n",
       " 'numeros': 123456,\n",
       " '_i13': 'numeros',\n",
       " '_13': 123456,\n",
       " '_i14': 'tuplas=(\"hola\", 123, True)',\n",
       " 'tuplas': (123, 456, 789),\n",
       " '_i15': 'type(tuplas)',\n",
       " '_15': tuple,\n",
       " '_i16': 'tuplas=[\"hola\", 123, True]',\n",
       " '_i17': 'type(tuplas)',\n",
       " '_17': list,\n",
       " '_i18': 'tuplas={\"hola\":12, \"adios\": 34}',\n",
       " '_i19': 'type(tuplas)',\n",
       " '_19': dict,\n",
       " '_i20': 'numero, cadena, tuplas= 123, \"hola\", (123,456,789)',\n",
       " 'numero': 123,\n",
       " '_i21': 'numero',\n",
       " '_21': 123,\n",
       " '_i22': 'cadena',\n",
       " '_22': 'hola',\n",
       " '_i23': 'tuplas',\n",
       " '_23': (123, 456, 789),\n",
       " '_i24': 'vars()'}"
      ]
     },
     "execution_count": 24,
     "metadata": {},
     "output_type": "execute_result"
    }
   ],
   "source": [
    "vars() #con esto veo lo que he hecho hasta ahora\n"
   ]
  },
  {
   "cell_type": "code",
   "execution_count": 25,
   "id": "7f1c209d",
   "metadata": {},
   "outputs": [],
   "source": [
    "var_glob= \"Estoy afuera\""
   ]
  },
  {
   "cell_type": "code",
   "execution_count": 26,
   "id": "75e52d12",
   "metadata": {},
   "outputs": [
    {
     "data": {
      "text/plain": [
       "'Estoy afuera'"
      ]
     },
     "execution_count": 26,
     "metadata": {},
     "output_type": "execute_result"
    }
   ],
   "source": [
    "var_glob"
   ]
  },
  {
   "cell_type": "code",
   "execution_count": 27,
   "id": "b7314c32",
   "metadata": {},
   "outputs": [],
   "source": [
    "def nombre_var():\n",
    "    var_glob=\"Estoy adentro\"\n",
    "    print(var_glob)"
   ]
  },
  {
   "cell_type": "code",
   "execution_count": 28,
   "id": "a2444e0f",
   "metadata": {},
   "outputs": [
    {
     "data": {
      "text/plain": [
       "<function __main__.nombre_var()>"
      ]
     },
     "execution_count": 28,
     "metadata": {},
     "output_type": "execute_result"
    }
   ],
   "source": [
    "nombre_var"
   ]
  },
  {
   "cell_type": "code",
   "execution_count": 29,
   "id": "d415465f",
   "metadata": {},
   "outputs": [
    {
     "name": "stdout",
     "output_type": "stream",
     "text": [
      "Estoy adentro\n"
     ]
    }
   ],
   "source": [
    "nombre_var()"
   ]
  },
  {
   "cell_type": "code",
   "execution_count": 30,
   "id": "480ca609",
   "metadata": {},
   "outputs": [],
   "source": [
    "i=False"
   ]
  },
  {
   "cell_type": "code",
   "execution_count": 31,
   "id": "8808d626",
   "metadata": {},
   "outputs": [
    {
     "data": {
      "text/plain": [
       "False"
      ]
     },
     "execution_count": 31,
     "metadata": {},
     "output_type": "execute_result"
    }
   ],
   "source": [
    "i"
   ]
  },
  {
   "cell_type": "code",
   "execution_count": 32,
   "id": "44ac74ce",
   "metadata": {},
   "outputs": [
    {
     "data": {
      "text/plain": [
       "bool"
      ]
     },
     "execution_count": 32,
     "metadata": {},
     "output_type": "execute_result"
    }
   ],
   "source": [
    "type(i)"
   ]
  },
  {
   "cell_type": "code",
   "execution_count": 33,
   "id": "d07de868",
   "metadata": {},
   "outputs": [],
   "source": [
    "i=\"False\""
   ]
  },
  {
   "cell_type": "code",
   "execution_count": 34,
   "id": "49575d7f",
   "metadata": {},
   "outputs": [
    {
     "data": {
      "text/plain": [
       "str"
      ]
     },
     "execution_count": 34,
     "metadata": {},
     "output_type": "execute_result"
    }
   ],
   "source": [
    "type(i)"
   ]
  },
  {
   "cell_type": "code",
   "execution_count": 35,
   "id": "a1a492d2",
   "metadata": {},
   "outputs": [
    {
     "data": {
      "text/plain": [
       "True"
      ]
     },
     "execution_count": 35,
     "metadata": {},
     "output_type": "execute_result"
    }
   ],
   "source": [
    "False == False"
   ]
  },
  {
   "cell_type": "markdown",
   "id": "20d4cc9a",
   "metadata": {},
   "source": [
    "# Listas en python"
   ]
  },
  {
   "cell_type": "code",
   "execution_count": 9,
   "id": "c7781ff2",
   "metadata": {},
   "outputs": [],
   "source": [
    "factura = [\"pan\", \"huevos\", 100, 1234,13]"
   ]
  },
  {
   "cell_type": "code",
   "execution_count": 2,
   "id": "a759a053",
   "metadata": {},
   "outputs": [
    {
     "data": {
      "text/plain": [
       "['pan', 'huevos', 100, 1234]"
      ]
     },
     "execution_count": 2,
     "metadata": {},
     "output_type": "execute_result"
    }
   ],
   "source": [
    "factura"
   ]
  },
  {
   "cell_type": "code",
   "execution_count": 3,
   "id": "a5b4ec5c",
   "metadata": {},
   "outputs": [
    {
     "data": {
      "text/plain": [
       "list"
      ]
     },
     "execution_count": 3,
     "metadata": {},
     "output_type": "execute_result"
    }
   ],
   "source": [
    "type(factura)"
   ]
  },
  {
   "cell_type": "code",
   "execution_count": 4,
   "id": "c8efdb1c",
   "metadata": {},
   "outputs": [
    {
     "data": {
      "text/plain": [
       "'pan'"
      ]
     },
     "execution_count": 4,
     "metadata": {},
     "output_type": "execute_result"
    }
   ],
   "source": [
    "factura[0]"
   ]
  },
  {
   "cell_type": "code",
   "execution_count": 5,
   "id": "e4473e5a",
   "metadata": {},
   "outputs": [
    {
     "data": {
      "text/plain": [
       "1234"
      ]
     },
     "execution_count": 5,
     "metadata": {},
     "output_type": "execute_result"
    }
   ],
   "source": [
    "factura[3]"
   ]
  },
  {
   "cell_type": "code",
   "execution_count": 6,
   "id": "51a5b46b",
   "metadata": {},
   "outputs": [
    {
     "data": {
      "text/plain": [
       "4"
      ]
     },
     "execution_count": 6,
     "metadata": {},
     "output_type": "execute_result"
    }
   ],
   "source": [
    "#con el método len() nos devuelve la longitud de la lista\n",
    "len(factura)"
   ]
  },
  {
   "cell_type": "code",
   "execution_count": 7,
   "id": "3764d0d9",
   "metadata": {},
   "outputs": [
    {
     "data": {
      "text/plain": [
       "100"
      ]
     },
     "execution_count": 7,
     "metadata": {},
     "output_type": "execute_result"
    }
   ],
   "source": [
    "factura[2]"
   ]
  },
  {
   "cell_type": "code",
   "execution_count": 10,
   "id": "79cad59a",
   "metadata": {},
   "outputs": [
    {
     "data": {
      "text/plain": [
       "13"
      ]
     },
     "execution_count": 10,
     "metadata": {},
     "output_type": "execute_result"
    }
   ],
   "source": [
    "factura[-1]"
   ]
  },
  {
   "cell_type": "code",
   "execution_count": 11,
   "id": "a14979af",
   "metadata": {},
   "outputs": [],
   "source": [
    "factura[0]=\"cafe\""
   ]
  },
  {
   "cell_type": "code",
   "execution_count": 12,
   "id": "60623544",
   "metadata": {},
   "outputs": [
    {
     "data": {
      "text/plain": [
       "['cafe', 'huevos', 100, 1234, 13]"
      ]
     },
     "execution_count": 12,
     "metadata": {},
     "output_type": "execute_result"
    }
   ],
   "source": [
    "factura"
   ]
  },
  {
   "cell_type": "code",
   "execution_count": 13,
   "id": "fb68ed10",
   "metadata": {},
   "outputs": [],
   "source": [
    "factura.append(2)"
   ]
  },
  {
   "cell_type": "code",
   "execution_count": 14,
   "id": "b37436f4",
   "metadata": {},
   "outputs": [
    {
     "data": {
      "text/plain": [
       "['cafe', 'huevos', 100, 1234, 13, 2]"
      ]
     },
     "execution_count": 14,
     "metadata": {},
     "output_type": "execute_result"
    }
   ],
   "source": [
    "factura"
   ]
  },
  {
   "cell_type": "code",
   "execution_count": 15,
   "id": "604cd30a",
   "metadata": {},
   "outputs": [],
   "source": [
    "versiones=[1,2,1,2,2,2,1,2,3,5,6,1,2,6,5,4,0]"
   ]
  },
  {
   "cell_type": "code",
   "execution_count": 16,
   "id": "2c426d5f",
   "metadata": {},
   "outputs": [
    {
     "data": {
      "text/plain": [
       "4"
      ]
     },
     "execution_count": 16,
     "metadata": {},
     "output_type": "execute_result"
    }
   ],
   "source": [
    "#Con .count podemos contar las veces que aparece un valor en nuestra lista\n",
    "versiones.count(1)\n"
   ]
  },
  {
   "cell_type": "code",
   "execution_count": 17,
   "id": "d53b7928",
   "metadata": {},
   "outputs": [],
   "source": [
    "nombre = [\"africa\", \"andres\",\"luciano\", \"antonio\"]"
   ]
  },
  {
   "cell_type": "code",
   "execution_count": 18,
   "id": "721fe52b",
   "metadata": {},
   "outputs": [
    {
     "data": {
      "text/plain": [
       "1"
      ]
     },
     "execution_count": 18,
     "metadata": {},
     "output_type": "execute_result"
    }
   ],
   "source": [
    "nombre.count(\"antonio\")"
   ]
  },
  {
   "cell_type": "code",
   "execution_count": 19,
   "id": "0f7b3a80",
   "metadata": {},
   "outputs": [],
   "source": [
    "# con el método .extends() es parecido a .append pero toma cada caracter como independiente.\n",
    "nombre.extend(\"Sergio\")"
   ]
  },
  {
   "cell_type": "code",
   "execution_count": 20,
   "id": "67ce095f",
   "metadata": {},
   "outputs": [
    {
     "data": {
      "text/plain": [
       "['africa', 'andres', 'luciano', 'antonio', 'S', 'e', 'r', 'g', 'i', 'o']"
      ]
     },
     "execution_count": 20,
     "metadata": {},
     "output_type": "execute_result"
    }
   ],
   "source": [
    "nombre"
   ]
  },
  {
   "cell_type": "code",
   "execution_count": 21,
   "id": "53084f73",
   "metadata": {},
   "outputs": [
    {
     "ename": "TypeError",
     "evalue": "'builtin_function_or_method' object is not subscriptable",
     "output_type": "error",
     "traceback": [
      "\u001b[1;31m---------------------------------------------------------------------------\u001b[0m",
      "\u001b[1;31mTypeError\u001b[0m                                 Traceback (most recent call last)",
      "\u001b[1;32m~\\AppData\\Local\\Temp/ipykernel_16096/3112087142.py\u001b[0m in \u001b[0;36m<module>\u001b[1;34m\u001b[0m\n\u001b[1;32m----> 1\u001b[1;33m \u001b[0mnombre\u001b[0m\u001b[1;33m.\u001b[0m\u001b[0mextend\u001b[0m\u001b[1;33m[\u001b[0m\u001b[1;34m\"paco\"\u001b[0m\u001b[1;33m]\u001b[0m\u001b[1;33m\u001b[0m\u001b[1;33m\u001b[0m\u001b[0m\n\u001b[0m",
      "\u001b[1;31mTypeError\u001b[0m: 'builtin_function_or_method' object is not subscriptable"
     ]
    }
   ],
   "source": [
    "nombre.extend[\"paco\"]"
   ]
  },
  {
   "cell_type": "code",
   "execution_count": 22,
   "id": "87e089b0",
   "metadata": {},
   "outputs": [
    {
     "data": {
      "text/plain": [
       "['africa', 'andres', 'luciano', 'antonio', 'S', 'e', 'r', 'g', 'i', 'o']"
      ]
     },
     "execution_count": 22,
     "metadata": {},
     "output_type": "execute_result"
    }
   ],
   "source": [
    "nombre"
   ]
  },
  {
   "cell_type": "code",
   "execution_count": 23,
   "id": "0e17e22a",
   "metadata": {},
   "outputs": [],
   "source": [
    "nombre.extend([\"paco\"])"
   ]
  },
  {
   "cell_type": "code",
   "execution_count": 24,
   "id": "dec50b8d",
   "metadata": {},
   "outputs": [
    {
     "data": {
      "text/plain": [
       "['africa',\n",
       " 'andres',\n",
       " 'luciano',\n",
       " 'antonio',\n",
       " 'S',\n",
       " 'e',\n",
       " 'r',\n",
       " 'g',\n",
       " 'i',\n",
       " 'o',\n",
       " 'paco']"
      ]
     },
     "execution_count": 24,
     "metadata": {},
     "output_type": "execute_result"
    }
   ],
   "source": [
    "nombre"
   ]
  },
  {
   "cell_type": "code",
   "execution_count": 25,
   "id": "5f5bd0a2",
   "metadata": {},
   "outputs": [],
   "source": [
    "nombre.extend(range(5,7))"
   ]
  },
  {
   "cell_type": "code",
   "execution_count": 26,
   "id": "ee3b997d",
   "metadata": {},
   "outputs": [
    {
     "data": {
      "text/plain": [
       "['africa',\n",
       " 'andres',\n",
       " 'luciano',\n",
       " 'antonio',\n",
       " 'S',\n",
       " 'e',\n",
       " 'r',\n",
       " 'g',\n",
       " 'i',\n",
       " 'o',\n",
       " 'paco',\n",
       " 5,\n",
       " 6]"
      ]
     },
     "execution_count": 26,
     "metadata": {},
     "output_type": "execute_result"
    }
   ],
   "source": [
    "nombre"
   ]
  },
  {
   "cell_type": "code",
   "execution_count": 27,
   "id": "4495fac1",
   "metadata": {},
   "outputs": [],
   "source": [
    "# otros métodos:\n",
    "# index(): toma un elemnto como argumento y devuelve el índice de su primera aparición en la lista\n",
    "versiones=[1,2,1,2,2,2,1,2,3,5,6,1,2,6,5,4,0]"
   ]
  },
  {
   "cell_type": "code",
   "execution_count": 28,
   "id": "0a4d964e",
   "metadata": {},
   "outputs": [
    {
     "data": {
      "text/plain": [
       "10"
      ]
     },
     "execution_count": 28,
     "metadata": {},
     "output_type": "execute_result"
    }
   ],
   "source": [
    "versiones.index(6)"
   ]
  },
  {
   "cell_type": "code",
   "execution_count": 29,
   "id": "36b37b13",
   "metadata": {},
   "outputs": [
    {
     "data": {
      "text/plain": [
       "0"
      ]
     },
     "execution_count": 29,
     "metadata": {},
     "output_type": "execute_result"
    }
   ],
   "source": [
    "# poo(): me devuelve el último elemento de la lista y después lo elimina\n",
    "versiones.pop()"
   ]
  },
  {
   "cell_type": "code",
   "execution_count": 30,
   "id": "d025c43d",
   "metadata": {},
   "outputs": [
    {
     "data": {
      "text/plain": [
       "[1, 2, 1, 2, 2, 2, 1, 2, 3, 5, 6, 1, 2, 6, 5, 4]"
      ]
     },
     "execution_count": 30,
     "metadata": {},
     "output_type": "execute_result"
    }
   ],
   "source": [
    "versiones"
   ]
  },
  {
   "cell_type": "code",
   "execution_count": 31,
   "id": "6b5dd5fd",
   "metadata": {},
   "outputs": [],
   "source": [
    "versiones.insert(3,1)"
   ]
  },
  {
   "cell_type": "code",
   "execution_count": 32,
   "id": "6dc88007",
   "metadata": {},
   "outputs": [
    {
     "data": {
      "text/plain": [
       "[1, 2, 1, 1, 2, 2, 2, 1, 2, 3, 5, 6, 1, 2, 6, 5, 4]"
      ]
     },
     "execution_count": 32,
     "metadata": {},
     "output_type": "execute_result"
    }
   ],
   "source": [
    "versiones"
   ]
  },
  {
   "cell_type": "code",
   "execution_count": 33,
   "id": "0629078e",
   "metadata": {},
   "outputs": [],
   "source": [
    "versiones.insert(1,3)# ingreso en l aposición 1 el num 3"
   ]
  },
  {
   "cell_type": "code",
   "execution_count": 34,
   "id": "30415879",
   "metadata": {},
   "outputs": [
    {
     "data": {
      "text/plain": [
       "[1, 3, 2, 1, 1, 2, 2, 2, 1, 2, 3, 5, 6, 1, 2, 6, 5, 4]"
      ]
     },
     "execution_count": 34,
     "metadata": {},
     "output_type": "execute_result"
    }
   ],
   "source": [
    "versiones"
   ]
  },
  {
   "cell_type": "code",
   "execution_count": 35,
   "id": "bb8bc3df",
   "metadata": {},
   "outputs": [],
   "source": [
    "versiones.remove(1) # borra el primero de la lista"
   ]
  },
  {
   "cell_type": "code",
   "execution_count": 36,
   "id": "e48df1f5",
   "metadata": {},
   "outputs": [
    {
     "data": {
      "text/plain": [
       "[3, 2, 1, 1, 2, 2, 2, 1, 2, 3, 5, 6, 1, 2, 6, 5, 4]"
      ]
     },
     "execution_count": 36,
     "metadata": {},
     "output_type": "execute_result"
    }
   ],
   "source": [
    "versiones"
   ]
  },
  {
   "cell_type": "code",
   "execution_count": 37,
   "id": "e24a1974",
   "metadata": {},
   "outputs": [],
   "source": [
    "factura = [\"pan\", \"huevos\", 100, 1234,13]"
   ]
  },
  {
   "cell_type": "code",
   "execution_count": 38,
   "id": "fa5f1835",
   "metadata": {},
   "outputs": [],
   "source": [
    "factura.reverse() # invierte el orden de una lista"
   ]
  },
  {
   "cell_type": "code",
   "execution_count": 39,
   "id": "ee51fcab",
   "metadata": {},
   "outputs": [
    {
     "data": {
      "text/plain": [
       "[13, 1234, 100, 'huevos', 'pan']"
      ]
     },
     "execution_count": 39,
     "metadata": {},
     "output_type": "execute_result"
    }
   ],
   "source": [
    "factura"
   ]
  },
  {
   "cell_type": "code",
   "execution_count": 40,
   "id": "841c7977",
   "metadata": {},
   "outputs": [],
   "source": [
    "versiones.sort() # ordena las listas"
   ]
  },
  {
   "cell_type": "code",
   "execution_count": 41,
   "id": "96a64ef4",
   "metadata": {},
   "outputs": [
    {
     "data": {
      "text/plain": [
       "[1, 1, 1, 1, 2, 2, 2, 2, 2, 2, 3, 3, 4, 5, 5, 6, 6]"
      ]
     },
     "execution_count": 41,
     "metadata": {},
     "output_type": "execute_result"
    }
   ],
   "source": [
    "versiones"
   ]
  },
  {
   "cell_type": "markdown",
   "id": "bf6c0023",
   "metadata": {},
   "source": [
    "# Tuplas"
   ]
  },
  {
   "cell_type": "code",
   "execution_count": 42,
   "id": "c306d5c0",
   "metadata": {},
   "outputs": [],
   "source": [
    "# esun tipo de datos de lista inmutable. Una vez creados no se pueden modificar.\n",
    "valores = (\"Sahara\", 9, False, 8.34)"
   ]
  },
  {
   "cell_type": "code",
   "execution_count": 43,
   "id": "234d50c3",
   "metadata": {},
   "outputs": [
    {
     "data": {
      "text/plain": [
       "tuple"
      ]
     },
     "execution_count": 43,
     "metadata": {},
     "output_type": "execute_result"
    }
   ],
   "source": [
    "type(valores)"
   ]
  },
  {
   "cell_type": "code",
   "execution_count": 44,
   "id": "a262a539",
   "metadata": {},
   "outputs": [
    {
     "data": {
      "text/plain": [
       "('Sahara', 9, False, 8.34)"
      ]
     },
     "execution_count": 44,
     "metadata": {},
     "output_type": "execute_result"
    }
   ],
   "source": [
    "valores"
   ]
  },
  {
   "cell_type": "code",
   "execution_count": 45,
   "id": "c2f29f6f",
   "metadata": {},
   "outputs": [
    {
     "data": {
      "text/plain": [
       "4"
      ]
     },
     "execution_count": 45,
     "metadata": {},
     "output_type": "execute_result"
    }
   ],
   "source": [
    "# tenemos casi los mismos métods que las listas\n",
    "len(valores)"
   ]
  },
  {
   "cell_type": "code",
   "execution_count": 46,
   "id": "8f5e9d7f",
   "metadata": {},
   "outputs": [
    {
     "ename": "TypeError",
     "evalue": "'tuple' object is not callable",
     "output_type": "error",
     "traceback": [
      "\u001b[1;31m---------------------------------------------------------------------------\u001b[0m",
      "\u001b[1;31mTypeError\u001b[0m                                 Traceback (most recent call last)",
      "\u001b[1;32m~\\AppData\\Local\\Temp/ipykernel_16096/1677350384.py\u001b[0m in \u001b[0;36m<module>\u001b[1;34m\u001b[0m\n\u001b[1;32m----> 1\u001b[1;33m \u001b[0mvalores\u001b[0m\u001b[1;33m(\u001b[0m\u001b[1;33m-\u001b[0m\u001b[1;36m1\u001b[0m\u001b[1;33m)\u001b[0m\u001b[1;33m\u001b[0m\u001b[1;33m\u001b[0m\u001b[0m\n\u001b[0m",
      "\u001b[1;31mTypeError\u001b[0m: 'tuple' object is not callable"
     ]
    }
   ],
   "source": [
    "valores(-1)"
   ]
  },
  {
   "cell_type": "code",
   "execution_count": 47,
   "id": "c6510c3a",
   "metadata": {},
   "outputs": [
    {
     "data": {
      "text/plain": [
       "8.34"
      ]
     },
     "execution_count": 47,
     "metadata": {},
     "output_type": "execute_result"
    }
   ],
   "source": [
    "valores[-1]"
   ]
  },
  {
   "cell_type": "code",
   "execution_count": 48,
   "id": "6e41eea1",
   "metadata": {},
   "outputs": [],
   "source": [
    "ver=(2,3,4,5,)"
   ]
  },
  {
   "cell_type": "code",
   "execution_count": 49,
   "id": "28cc7b8b",
   "metadata": {},
   "outputs": [
    {
     "data": {
      "text/plain": [
       "1"
      ]
     },
     "execution_count": 49,
     "metadata": {},
     "output_type": "execute_result"
    }
   ],
   "source": [
    "ver.count(2)"
   ]
  },
  {
   "cell_type": "code",
   "execution_count": 50,
   "id": "45657ac6",
   "metadata": {},
   "outputs": [
    {
     "ename": "ValueError",
     "evalue": "tuple.index(x): x not in tuple",
     "output_type": "error",
     "traceback": [
      "\u001b[1;31m---------------------------------------------------------------------------\u001b[0m",
      "\u001b[1;31mValueError\u001b[0m                                Traceback (most recent call last)",
      "\u001b[1;32m~\\AppData\\Local\\Temp/ipykernel_16096/159269959.py\u001b[0m in \u001b[0;36m<module>\u001b[1;34m\u001b[0m\n\u001b[1;32m----> 1\u001b[1;33m \u001b[0mver\u001b[0m\u001b[1;33m.\u001b[0m\u001b[0mindex\u001b[0m\u001b[1;33m(\u001b[0m\u001b[1;36m1\u001b[0m\u001b[1;33m)\u001b[0m\u001b[1;33m\u001b[0m\u001b[1;33m\u001b[0m\u001b[0m\n\u001b[0m",
      "\u001b[1;31mValueError\u001b[0m: tuple.index(x): x not in tuple"
     ]
    }
   ],
   "source": [
    "ver.index(1)"
   ]
  },
  {
   "cell_type": "code",
   "execution_count": 51,
   "id": "4bf5ba63",
   "metadata": {},
   "outputs": [
    {
     "data": {
      "text/plain": [
       "0"
      ]
     },
     "execution_count": 51,
     "metadata": {},
     "output_type": "execute_result"
    }
   ],
   "source": [
    "ver.index(2)"
   ]
  },
  {
   "cell_type": "code",
   "execution_count": 52,
   "id": "772dfca8",
   "metadata": {},
   "outputs": [
    {
     "data": {
      "text/plain": [
       "2"
      ]
     },
     "execution_count": 52,
     "metadata": {},
     "output_type": "execute_result"
    }
   ],
   "source": [
    "valores.index(False)"
   ]
  },
  {
   "cell_type": "code",
   "execution_count": 53,
   "id": "2deb566e",
   "metadata": {},
   "outputs": [
    {
     "data": {
      "text/plain": [
       "(2, 3, 4, 5)"
      ]
     },
     "execution_count": 53,
     "metadata": {},
     "output_type": "execute_result"
    }
   ],
   "source": [
    "ver"
   ]
  },
  {
   "cell_type": "code",
   "execution_count": 54,
   "id": "d0703060",
   "metadata": {},
   "outputs": [
    {
     "ename": "AttributeError",
     "evalue": "'tuple' object has no attribute 'reverse'",
     "output_type": "error",
     "traceback": [
      "\u001b[1;31m---------------------------------------------------------------------------\u001b[0m",
      "\u001b[1;31mAttributeError\u001b[0m                            Traceback (most recent call last)",
      "\u001b[1;32m~\\AppData\\Local\\Temp/ipykernel_16096/1910250500.py\u001b[0m in \u001b[0;36m<module>\u001b[1;34m\u001b[0m\n\u001b[1;32m----> 1\u001b[1;33m \u001b[0mver\u001b[0m\u001b[1;33m.\u001b[0m\u001b[0mreverse\u001b[0m\u001b[1;33m(\u001b[0m\u001b[1;33m)\u001b[0m\u001b[1;33m\u001b[0m\u001b[1;33m\u001b[0m\u001b[0m\n\u001b[0m",
      "\u001b[1;31mAttributeError\u001b[0m: 'tuple' object has no attribute 'reverse'"
     ]
    }
   ],
   "source": [
    "ver.reverse()"
   ]
  },
  {
   "cell_type": "code",
   "execution_count": 55,
   "id": "9c2eb979",
   "metadata": {},
   "outputs": [],
   "source": [
    "# no puedo pq estoy modificando su orden. sort tampoco"
   ]
  },
  {
   "cell_type": "markdown",
   "id": "e224fb88",
   "metadata": {},
   "source": [
    "# como convertir lista a tupla"
   ]
  },
  {
   "cell_type": "code",
   "execution_count": 56,
   "id": "66d92c13",
   "metadata": {},
   "outputs": [
    {
     "data": {
      "text/plain": [
       "[13, 1234, 100, 'huevos', 'pan']"
      ]
     },
     "execution_count": 56,
     "metadata": {},
     "output_type": "execute_result"
    }
   ],
   "source": [
    "factura"
   ]
  },
  {
   "cell_type": "code",
   "execution_count": 57,
   "id": "bce93510",
   "metadata": {},
   "outputs": [
    {
     "data": {
      "text/plain": [
       "list"
      ]
     },
     "execution_count": 57,
     "metadata": {},
     "output_type": "execute_result"
    }
   ],
   "source": [
    "type(factura)"
   ]
  },
  {
   "cell_type": "code",
   "execution_count": 58,
   "id": "03d45d27",
   "metadata": {},
   "outputs": [],
   "source": [
    "factura_v2 = tuple(factura)# quiero que los elementos de esta lista los convierta en tupla"
   ]
  },
  {
   "cell_type": "code",
   "execution_count": 59,
   "id": "56348115",
   "metadata": {},
   "outputs": [
    {
     "data": {
      "text/plain": [
       "tuple"
      ]
     },
     "execution_count": 59,
     "metadata": {},
     "output_type": "execute_result"
    }
   ],
   "source": [
    "type(factura_v2)"
   ]
  },
  {
   "cell_type": "code",
   "execution_count": 60,
   "id": "29a79453",
   "metadata": {},
   "outputs": [
    {
     "data": {
      "text/plain": [
       "(13, 1234, 100, 'huevos', 'pan')"
      ]
     },
     "execution_count": 60,
     "metadata": {},
     "output_type": "execute_result"
    }
   ],
   "source": [
    "factura_v2"
   ]
  },
  {
   "cell_type": "code",
   "execution_count": 61,
   "id": "d8b2cd42",
   "metadata": {},
   "outputs": [
    {
     "data": {
      "text/plain": [
       "[13, 1234, 100, 'huevos', 'pan']"
      ]
     },
     "execution_count": 61,
     "metadata": {},
     "output_type": "execute_result"
    }
   ],
   "source": [
    "factura"
   ]
  },
  {
   "cell_type": "code",
   "execution_count": 62,
   "id": "f6c4f95e",
   "metadata": {},
   "outputs": [
    {
     "data": {
      "text/plain": [
       "list"
      ]
     },
     "execution_count": 62,
     "metadata": {},
     "output_type": "execute_result"
    }
   ],
   "source": [
    "type(factura)"
   ]
  },
  {
   "cell_type": "code",
   "execution_count": 63,
   "id": "d5b6865a",
   "metadata": {},
   "outputs": [],
   "source": [
    "factura= tuple(factura)"
   ]
  },
  {
   "cell_type": "code",
   "execution_count": 64,
   "id": "aa10b73e",
   "metadata": {},
   "outputs": [
    {
     "data": {
      "text/plain": [
       "(13, 1234, 100, 'huevos', 'pan')"
      ]
     },
     "execution_count": 64,
     "metadata": {},
     "output_type": "execute_result"
    }
   ],
   "source": [
    "factura"
   ]
  },
  {
   "cell_type": "code",
   "execution_count": 65,
   "id": "0182b86e",
   "metadata": {},
   "outputs": [
    {
     "data": {
      "text/plain": [
       "tuple"
      ]
     },
     "execution_count": 65,
     "metadata": {},
     "output_type": "execute_result"
    }
   ],
   "source": [
    "type(factura)"
   ]
  },
  {
   "cell_type": "markdown",
   "id": "0fc2a294",
   "metadata": {},
   "source": [
    "# Convertir tuplas a listas"
   ]
  },
  {
   "cell_type": "code",
   "execution_count": 66,
   "id": "f31c94fd",
   "metadata": {},
   "outputs": [
    {
     "data": {
      "text/plain": [
       "(2, 3, 4, 5)"
      ]
     },
     "execution_count": 66,
     "metadata": {},
     "output_type": "execute_result"
    }
   ],
   "source": [
    "ver"
   ]
  },
  {
   "cell_type": "code",
   "execution_count": 67,
   "id": "134db2c1",
   "metadata": {},
   "outputs": [
    {
     "data": {
      "text/plain": [
       "tuple"
      ]
     },
     "execution_count": 67,
     "metadata": {},
     "output_type": "execute_result"
    }
   ],
   "source": [
    "type(ver)"
   ]
  },
  {
   "cell_type": "code",
   "execution_count": 68,
   "id": "59387d81",
   "metadata": {},
   "outputs": [],
   "source": [
    "ver_v2= list(ver)"
   ]
  },
  {
   "cell_type": "code",
   "execution_count": 69,
   "id": "61fa8995",
   "metadata": {},
   "outputs": [
    {
     "data": {
      "text/plain": [
       "[2, 3, 4, 5]"
      ]
     },
     "execution_count": 69,
     "metadata": {},
     "output_type": "execute_result"
    }
   ],
   "source": [
    "ver_v2"
   ]
  },
  {
   "cell_type": "code",
   "execution_count": 70,
   "id": "6efb1861",
   "metadata": {},
   "outputs": [
    {
     "data": {
      "text/plain": [
       "list"
      ]
     },
     "execution_count": 70,
     "metadata": {},
     "output_type": "execute_result"
    }
   ],
   "source": [
    "type(ver_v2)"
   ]
  },
  {
   "cell_type": "markdown",
   "id": "634bfdd5",
   "metadata": {},
   "source": [
    "# Diccionarios"
   ]
  },
  {
   "cell_type": "code",
   "execution_count": 71,
   "id": "8d419f7e",
   "metadata": {},
   "outputs": [],
   "source": [
    "# Definen una relación uno a uno entre claves y valores\n",
    "# son mutables y podremos modificarlos\n",
    "diccionario= {\"dia\":9,\"mes\":9,\"año\":2021}"
   ]
  },
  {
   "cell_type": "code",
   "execution_count": 72,
   "id": "f13bd4b5",
   "metadata": {},
   "outputs": [
    {
     "data": {
      "text/plain": [
       "{'dia': 9, 'mes': 9, 'año': 2021}"
      ]
     },
     "execution_count": 72,
     "metadata": {},
     "output_type": "execute_result"
    }
   ],
   "source": [
    "diccionario"
   ]
  },
  {
   "cell_type": "code",
   "execution_count": 73,
   "id": "94616c2f",
   "metadata": {},
   "outputs": [
    {
     "data": {
      "text/plain": [
       "3"
      ]
     },
     "execution_count": 73,
     "metadata": {},
     "output_type": "execute_result"
    }
   ],
   "source": [
    "len(diccionario)"
   ]
  },
  {
   "cell_type": "code",
   "execution_count": 74,
   "id": "5a71f43f",
   "metadata": {},
   "outputs": [
    {
     "data": {
      "text/plain": [
       "dict"
      ]
     },
     "execution_count": 74,
     "metadata": {},
     "output_type": "execute_result"
    }
   ],
   "source": [
    "type(diccionario)"
   ]
  },
  {
   "cell_type": "code",
   "execution_count": 75,
   "id": "eec41e92",
   "metadata": {},
   "outputs": [
    {
     "data": {
      "text/plain": [
       "2021"
      ]
     },
     "execution_count": 75,
     "metadata": {},
     "output_type": "execute_result"
    }
   ],
   "source": [
    "diccionario[\"año\"]"
   ]
  },
  {
   "cell_type": "code",
   "execution_count": 76,
   "id": "a655eb25",
   "metadata": {},
   "outputs": [
    {
     "ename": "NameError",
     "evalue": "name 'diciionario' is not defined",
     "output_type": "error",
     "traceback": [
      "\u001b[1;31m---------------------------------------------------------------------------\u001b[0m",
      "\u001b[1;31mNameError\u001b[0m                                 Traceback (most recent call last)",
      "\u001b[1;32m~\\AppData\\Local\\Temp/ipykernel_16096/2662113641.py\u001b[0m in \u001b[0;36m<module>\u001b[1;34m\u001b[0m\n\u001b[1;32m----> 1\u001b[1;33m \u001b[0mdiciionario\u001b[0m\u001b[1;33m[\u001b[0m\u001b[1;34m\"dia\"\u001b[0m\u001b[1;33m]\u001b[0m\u001b[1;33m=\u001b[0m\u001b[1;36m10\u001b[0m\u001b[1;33m\u001b[0m\u001b[1;33m\u001b[0m\u001b[0m\n\u001b[0m",
      "\u001b[1;31mNameError\u001b[0m: name 'diciionario' is not defined"
     ]
    }
   ],
   "source": [
    "diciionario[\"dia\"]=10"
   ]
  },
  {
   "cell_type": "code",
   "execution_count": 77,
   "id": "9bf4f5b0",
   "metadata": {},
   "outputs": [],
   "source": [
    "diccionario[\"dia\"]=10 #para cambiar el día por ejemplo"
   ]
  },
  {
   "cell_type": "code",
   "execution_count": 78,
   "id": "9ee794f2",
   "metadata": {},
   "outputs": [
    {
     "data": {
      "text/plain": [
       "{'dia': 10, 'mes': 9, 'año': 2021}"
      ]
     },
     "execution_count": 78,
     "metadata": {},
     "output_type": "execute_result"
    }
   ],
   "source": [
    "diccionario"
   ]
  },
  {
   "cell_type": "code",
   "execution_count": 79,
   "id": "3a14ac70",
   "metadata": {},
   "outputs": [],
   "source": [
    "diccionario.clear() #elimina todos los elementos del diccionario\n"
   ]
  },
  {
   "cell_type": "code",
   "execution_count": 80,
   "id": "39707905",
   "metadata": {},
   "outputs": [
    {
     "data": {
      "text/plain": [
       "{}"
      ]
     },
     "execution_count": 80,
     "metadata": {},
     "output_type": "execute_result"
    }
   ],
   "source": [
    "diccionario # ahora sale vacio"
   ]
  },
  {
   "cell_type": "code",
   "execution_count": 81,
   "id": "ce7f09ba",
   "metadata": {},
   "outputs": [],
   "source": [
    "hoy={\"dia\":9,\"mes\":9, \"año\": 2021}"
   ]
  },
  {
   "cell_type": "code",
   "execution_count": 82,
   "id": "73b24d2f",
   "metadata": {},
   "outputs": [
    {
     "data": {
      "text/plain": [
       "{}"
      ]
     },
     "execution_count": 82,
     "metadata": {},
     "output_type": "execute_result"
    }
   ],
   "source": [
    "diccionario"
   ]
  },
  {
   "cell_type": "code",
   "execution_count": 83,
   "id": "6365ae0e",
   "metadata": {},
   "outputs": [
    {
     "data": {
      "text/plain": [
       "{'dia': 9, 'mes': 9, 'año': 2021}"
      ]
     },
     "execution_count": 83,
     "metadata": {},
     "output_type": "execute_result"
    }
   ],
   "source": [
    "hoy"
   ]
  },
  {
   "cell_type": "code",
   "execution_count": 84,
   "id": "c7be36a4",
   "metadata": {},
   "outputs": [],
   "source": [
    "secuencia= (\"dia\", \"mes\", \"año\")"
   ]
  },
  {
   "cell_type": "code",
   "execution_count": 85,
   "id": "160be4ac",
   "metadata": {},
   "outputs": [],
   "source": [
    "dia=dict.fromkeys(secuencia)"
   ]
  },
  {
   "cell_type": "code",
   "execution_count": 86,
   "id": "e0cc049c",
   "metadata": {},
   "outputs": [
    {
     "data": {
      "text/plain": [
       "{'dia': None, 'mes': None, 'año': None}"
      ]
     },
     "execution_count": 86,
     "metadata": {},
     "output_type": "execute_result"
    }
   ],
   "source": [
    "dia"
   ]
  },
  {
   "cell_type": "code",
   "execution_count": 87,
   "id": "a981fed4",
   "metadata": {},
   "outputs": [],
   "source": [
    "dia=dict.fromkeys(secuencia, 9)# traeme las llaves de la secuencia y le añades el valor 9 para todas las keys"
   ]
  },
  {
   "cell_type": "code",
   "execution_count": 88,
   "id": "ecb5437b",
   "metadata": {},
   "outputs": [
    {
     "data": {
      "text/plain": [
       "{'dia': 9, 'mes': 9, 'año': 9}"
      ]
     },
     "execution_count": 88,
     "metadata": {},
     "output_type": "execute_result"
    }
   ],
   "source": [
    "dia"
   ]
  },
  {
   "cell_type": "code",
   "execution_count": 89,
   "id": "71abe850",
   "metadata": {},
   "outputs": [],
   "source": [
    "# que pasa si quiero guardar el diccionario para hacerlo más grande despues\n",
    "mañana=dia.copy()"
   ]
  },
  {
   "cell_type": "code",
   "execution_count": 90,
   "id": "e07facc6",
   "metadata": {},
   "outputs": [],
   "source": [
    "mañana[\"dia\"]=10"
   ]
  },
  {
   "cell_type": "code",
   "execution_count": 91,
   "id": "b461d750",
   "metadata": {},
   "outputs": [
    {
     "data": {
      "text/plain": [
       "{'dia': 10, 'mes': 9, 'año': 9}"
      ]
     },
     "execution_count": 91,
     "metadata": {},
     "output_type": "execute_result"
    }
   ],
   "source": [
    "mañana"
   ]
  },
  {
   "cell_type": "code",
   "execution_count": 92,
   "id": "db1150b2",
   "metadata": {},
   "outputs": [
    {
     "data": {
      "text/plain": [
       "10"
      ]
     },
     "execution_count": 92,
     "metadata": {},
     "output_type": "execute_result"
    }
   ],
   "source": [
    "mañana.get(\"dia\") # obtengo solo el valor del día"
   ]
  },
  {
   "cell_type": "code",
   "execution_count": 94,
   "id": "990043c1",
   "metadata": {},
   "outputs": [],
   "source": [
    "val=mañana.get(\"clima\")"
   ]
  },
  {
   "cell_type": "code",
   "execution_count": 95,
   "id": "37f4ce61",
   "metadata": {},
   "outputs": [],
   "source": [
    "val #si no te encuentra no te devuelve nada"
   ]
  },
  {
   "cell_type": "code",
   "execution_count": 96,
   "id": "a29874a2",
   "metadata": {},
   "outputs": [
    {
     "data": {
      "text/plain": [
       "{'dia': 10, 'mes': 9, 'año': 9}"
      ]
     },
     "execution_count": 96,
     "metadata": {},
     "output_type": "execute_result"
    }
   ],
   "source": [
    "mañana"
   ]
  },
  {
   "cell_type": "code",
   "execution_count": 97,
   "id": "b64d7245",
   "metadata": {},
   "outputs": [
    {
     "data": {
      "text/plain": [
       "dict_items([('dia', 10), ('mes', 9), ('año', 9)])"
      ]
     },
     "execution_count": 97,
     "metadata": {},
     "output_type": "execute_result"
    }
   ],
   "source": [
    "mañana.items()# devuelve una lista como si fuese tupla(clave,valor)"
   ]
  },
  {
   "cell_type": "code",
   "execution_count": 98,
   "id": "08051a36",
   "metadata": {},
   "outputs": [
    {
     "data": {
      "text/plain": [
       "dict_keys(['dia', 'mes', 'año'])"
      ]
     },
     "execution_count": 98,
     "metadata": {},
     "output_type": "execute_result"
    }
   ],
   "source": [
    "mañana.keys()# me devuelve solo las llaves"
   ]
  },
  {
   "cell_type": "code",
   "execution_count": 99,
   "id": "28348989",
   "metadata": {},
   "outputs": [
    {
     "data": {
      "text/plain": [
       "9"
      ]
     },
     "execution_count": 99,
     "metadata": {},
     "output_type": "execute_result"
    }
   ],
   "source": [
    "mañana.pop(\"mes\")"
   ]
  },
  {
   "cell_type": "code",
   "execution_count": 100,
   "id": "7ab7f94d",
   "metadata": {},
   "outputs": [
    {
     "data": {
      "text/plain": [
       "{'dia': 10, 'año': 9}"
      ]
     },
     "execution_count": 100,
     "metadata": {},
     "output_type": "execute_result"
    }
   ],
   "source": [
    "mañana"
   ]
  },
  {
   "cell_type": "code",
   "execution_count": 101,
   "id": "5eb09908",
   "metadata": {},
   "outputs": [],
   "source": [
    "diccionario2 = {\"dia\":9, \"mes\":9, \"año\":2021}"
   ]
  },
  {
   "cell_type": "code",
   "execution_count": 102,
   "id": "d92549d1",
   "metadata": {},
   "outputs": [
    {
     "ename": "NameError",
     "evalue": "name 'dicccionario2' is not defined",
     "output_type": "error",
     "traceback": [
      "\u001b[1;31m---------------------------------------------------------------------------\u001b[0m",
      "\u001b[1;31mNameError\u001b[0m                                 Traceback (most recent call last)",
      "\u001b[1;32m~\\AppData\\Local\\Temp/ipykernel_16096/3300501597.py\u001b[0m in \u001b[0;36m<module>\u001b[1;34m\u001b[0m\n\u001b[1;32m----> 1\u001b[1;33m \u001b[0mdicccionario2\u001b[0m\u001b[1;33m\u001b[0m\u001b[1;33m\u001b[0m\u001b[0m\n\u001b[0m",
      "\u001b[1;31mNameError\u001b[0m: name 'dicccionario2' is not defined"
     ]
    }
   ],
   "source": [
    "dicccionario2"
   ]
  },
  {
   "cell_type": "code",
   "execution_count": 103,
   "id": "c0f33f3f",
   "metadata": {},
   "outputs": [
    {
     "data": {
      "text/plain": [
       "{'dia': 9, 'mes': 9, 'año': 2021}"
      ]
     },
     "execution_count": 103,
     "metadata": {},
     "output_type": "execute_result"
    }
   ],
   "source": [
    "diccionario2"
   ]
  },
  {
   "cell_type": "code",
   "execution_count": 104,
   "id": "746186c9",
   "metadata": {},
   "outputs": [],
   "source": [
    "mañana.update(diccionario2)# actualizo y le meto los datos nuevos al final"
   ]
  },
  {
   "cell_type": "code",
   "execution_count": 105,
   "id": "d93a3d8b",
   "metadata": {},
   "outputs": [
    {
     "data": {
      "text/plain": [
       "{'dia': 9, 'año': 2021, 'mes': 9}"
      ]
     },
     "execution_count": 105,
     "metadata": {},
     "output_type": "execute_result"
    }
   ],
   "source": [
    "mañana # el método se aplica a mañana y no a diciconario ojo"
   ]
  },
  {
   "cell_type": "markdown",
   "id": "90e14b86",
   "metadata": {},
   "source": [
    "# ejercicio propuesto"
   ]
  },
  {
   "cell_type": "code",
   "execution_count": 106,
   "id": "1f9fb4d3",
   "metadata": {},
   "outputs": [],
   "source": [
    "ejercicio=(\"Paula\", 2, \"False\", 2.5, \"Anto\")"
   ]
  },
  {
   "cell_type": "code",
   "execution_count": 107,
   "id": "d2db2697",
   "metadata": {},
   "outputs": [
    {
     "data": {
      "text/plain": [
       "('Paula', 2, 'False', 2.5, 'Anto')"
      ]
     },
     "execution_count": 107,
     "metadata": {},
     "output_type": "execute_result"
    }
   ],
   "source": [
    "ejercicio"
   ]
  },
  {
   "cell_type": "code",
   "execution_count": 108,
   "id": "b7f5d4ce",
   "metadata": {},
   "outputs": [
    {
     "data": {
      "text/plain": [
       "tuple"
      ]
     },
     "execution_count": 108,
     "metadata": {},
     "output_type": "execute_result"
    }
   ],
   "source": [
    "type(ejercicio)"
   ]
  },
  {
   "cell_type": "code",
   "execution_count": 109,
   "id": "0a9e9bd4",
   "metadata": {},
   "outputs": [],
   "source": [
    "# cambiar tupla a lista\n",
    "ejercicio_v2= list(ejercicio)"
   ]
  },
  {
   "cell_type": "code",
   "execution_count": 110,
   "id": "011264f5",
   "metadata": {},
   "outputs": [
    {
     "data": {
      "text/plain": [
       "['Paula', 2, 'False', 2.5, 'Anto']"
      ]
     },
     "execution_count": 110,
     "metadata": {},
     "output_type": "execute_result"
    }
   ],
   "source": [
    "ejercicio_v2"
   ]
  },
  {
   "cell_type": "code",
   "execution_count": 111,
   "id": "9c3a0600",
   "metadata": {},
   "outputs": [
    {
     "data": {
      "text/plain": [
       "list"
      ]
     },
     "execution_count": 111,
     "metadata": {},
     "output_type": "execute_result"
    }
   ],
   "source": [
    "type(ejercicio_v2)"
   ]
  },
  {
   "cell_type": "code",
   "execution_count": null,
   "id": "b7b8b252",
   "metadata": {},
   "outputs": [],
   "source": [
    "# crear diciconario\n"
   ]
  }
 ],
 "metadata": {
  "kernelspec": {
   "display_name": "Python 3 (ipykernel)",
   "language": "python",
   "name": "python3"
  },
  "language_info": {
   "codemirror_mode": {
    "name": "ipython",
    "version": 3
   },
   "file_extension": ".py",
   "mimetype": "text/x-python",
   "name": "python",
   "nbconvert_exporter": "python",
   "pygments_lexer": "ipython3",
   "version": "3.9.7"
  }
 },
 "nbformat": 4,
 "nbformat_minor": 5
}
