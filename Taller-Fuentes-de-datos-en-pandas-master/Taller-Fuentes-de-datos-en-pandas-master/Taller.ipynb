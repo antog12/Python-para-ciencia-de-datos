{
 "cells": [
  {
   "cell_type": "markdown",
   "metadata": {},
   "source": [
    "# Fuente de datos en Pandas\n",
    "\n",
    "## Contenidos\n",
    "* [Archivos csv](Ejercicios/csv.ipynb)\n",
    "* [Tablas html](Ejercicios/html.ipynb)\n",
    "* [Archivos json](Ejercicios/json.ipynb)\n",
    "* [Archivos pdf\n",
    "](Ejercicios/pdf.ipynb)\n",
    "* [Bases de datos](Ejercicios/sql.ipynb)\n",
    "* [Pickle](Ejercicios/Pickle.ipynb)"
   ]
  }
 ],
 "metadata": {
  "kernelspec": {
   "display_name": "Python 3",
   "language": "python",
   "name": "python3"
  },
  "language_info": {
   "codemirror_mode": {
    "name": "ipython",
    "version": 3
   },
   "file_extension": ".py",
   "mimetype": "text/x-python",
   "name": "python",
   "nbconvert_exporter": "python",
   "pygments_lexer": "ipython3",
   "version": "3.7.6"
  }
 },
 "nbformat": 4,
 "nbformat_minor": 4
}
