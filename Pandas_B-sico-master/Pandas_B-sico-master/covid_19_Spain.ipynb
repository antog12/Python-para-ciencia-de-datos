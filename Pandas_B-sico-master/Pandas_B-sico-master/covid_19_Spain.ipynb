{
 "cells": [
  {
   "cell_type": "code",
   "execution_count": 1,
   "id": "e113d790",
   "metadata": {},
   "outputs": [],
   "source": [
    "import pandas as pd"
   ]
  },
  {
   "cell_type": "code",
   "execution_count": 2,
   "id": "4320b3ab",
   "metadata": {},
   "outputs": [],
   "source": [
    "import numpy as np"
   ]
  },
  {
   "cell_type": "code",
   "execution_count": 3,
   "id": "6d2dc781",
   "metadata": {},
   "outputs": [],
   "source": [
    "import csv"
   ]
  },
  {
   "cell_type": "code",
   "execution_count": 5,
   "id": "84251e82",
   "metadata": {},
   "outputs": [],
   "source": [
    "df = pd.read_csv('covid_19.csv')"
   ]
  },
  {
   "cell_type": "code",
   "execution_count": 6,
   "id": "8f962bec",
   "metadata": {},
   "outputs": [
    {
     "data": {
      "text/html": [
       "<div>\n",
       "<style scoped>\n",
       "    .dataframe tbody tr th:only-of-type {\n",
       "        vertical-align: middle;\n",
       "    }\n",
       "\n",
       "    .dataframe tbody tr th {\n",
       "        vertical-align: top;\n",
       "    }\n",
       "\n",
       "    .dataframe thead th {\n",
       "        text-align: right;\n",
       "    }\n",
       "</style>\n",
       "<table border=\"1\" class=\"dataframe\">\n",
       "  <thead>\n",
       "    <tr style=\"text-align: right;\">\n",
       "      <th></th>\n",
       "      <th>ccaa_iso</th>\n",
       "      <th>fecha</th>\n",
       "      <th>num_casos</th>\n",
       "      <th>num_casos_prueba_pcr</th>\n",
       "      <th>num_casos_prueba_test_ac</th>\n",
       "      <th>num_casos_prueba_ag</th>\n",
       "      <th>num_casos_prueba_elisa</th>\n",
       "      <th>num_casos_prueba_desconocida</th>\n",
       "    </tr>\n",
       "  </thead>\n",
       "  <tbody>\n",
       "    <tr>\n",
       "      <th>0</th>\n",
       "      <td>AN</td>\n",
       "      <td>2020-01-01</td>\n",
       "      <td>0</td>\n",
       "      <td>0</td>\n",
       "      <td>0</td>\n",
       "      <td>0</td>\n",
       "      <td>0</td>\n",
       "      <td>0</td>\n",
       "    </tr>\n",
       "    <tr>\n",
       "      <th>1</th>\n",
       "      <td>AR</td>\n",
       "      <td>2020-01-01</td>\n",
       "      <td>0</td>\n",
       "      <td>0</td>\n",
       "      <td>0</td>\n",
       "      <td>0</td>\n",
       "      <td>0</td>\n",
       "      <td>0</td>\n",
       "    </tr>\n",
       "    <tr>\n",
       "      <th>2</th>\n",
       "      <td>AS</td>\n",
       "      <td>2020-01-01</td>\n",
       "      <td>0</td>\n",
       "      <td>0</td>\n",
       "      <td>0</td>\n",
       "      <td>0</td>\n",
       "      <td>0</td>\n",
       "      <td>0</td>\n",
       "    </tr>\n",
       "    <tr>\n",
       "      <th>3</th>\n",
       "      <td>CB</td>\n",
       "      <td>2020-01-01</td>\n",
       "      <td>0</td>\n",
       "      <td>0</td>\n",
       "      <td>0</td>\n",
       "      <td>0</td>\n",
       "      <td>0</td>\n",
       "      <td>0</td>\n",
       "    </tr>\n",
       "    <tr>\n",
       "      <th>4</th>\n",
       "      <td>CE</td>\n",
       "      <td>2020-01-01</td>\n",
       "      <td>1</td>\n",
       "      <td>0</td>\n",
       "      <td>0</td>\n",
       "      <td>1</td>\n",
       "      <td>0</td>\n",
       "      <td>0</td>\n",
       "    </tr>\n",
       "    <tr>\n",
       "      <th>...</th>\n",
       "      <td>...</td>\n",
       "      <td>...</td>\n",
       "      <td>...</td>\n",
       "      <td>...</td>\n",
       "      <td>...</td>\n",
       "      <td>...</td>\n",
       "      <td>...</td>\n",
       "      <td>...</td>\n",
       "    </tr>\n",
       "    <tr>\n",
       "      <th>7424</th>\n",
       "      <td>ML</td>\n",
       "      <td>2021-01-25</td>\n",
       "      <td>0</td>\n",
       "      <td>0</td>\n",
       "      <td>0</td>\n",
       "      <td>0</td>\n",
       "      <td>0</td>\n",
       "      <td>0</td>\n",
       "    </tr>\n",
       "    <tr>\n",
       "      <th>7425</th>\n",
       "      <td>NC</td>\n",
       "      <td>2021-01-25</td>\n",
       "      <td>0</td>\n",
       "      <td>0</td>\n",
       "      <td>0</td>\n",
       "      <td>0</td>\n",
       "      <td>0</td>\n",
       "      <td>0</td>\n",
       "    </tr>\n",
       "    <tr>\n",
       "      <th>7426</th>\n",
       "      <td>PV</td>\n",
       "      <td>2021-01-25</td>\n",
       "      <td>0</td>\n",
       "      <td>0</td>\n",
       "      <td>0</td>\n",
       "      <td>0</td>\n",
       "      <td>0</td>\n",
       "      <td>0</td>\n",
       "    </tr>\n",
       "    <tr>\n",
       "      <th>7427</th>\n",
       "      <td>RI</td>\n",
       "      <td>2021-01-25</td>\n",
       "      <td>0</td>\n",
       "      <td>0</td>\n",
       "      <td>0</td>\n",
       "      <td>0</td>\n",
       "      <td>0</td>\n",
       "      <td>0</td>\n",
       "    </tr>\n",
       "    <tr>\n",
       "      <th>7428</th>\n",
       "      <td>VC</td>\n",
       "      <td>2021-01-25</td>\n",
       "      <td>108</td>\n",
       "      <td>84</td>\n",
       "      <td>0</td>\n",
       "      <td>24</td>\n",
       "      <td>0</td>\n",
       "      <td>0</td>\n",
       "    </tr>\n",
       "  </tbody>\n",
       "</table>\n",
       "<p>7429 rows × 8 columns</p>\n",
       "</div>"
      ],
      "text/plain": [
       "     ccaa_iso       fecha  num_casos  num_casos_prueba_pcr  \\\n",
       "0          AN  2020-01-01          0                     0   \n",
       "1          AR  2020-01-01          0                     0   \n",
       "2          AS  2020-01-01          0                     0   \n",
       "3          CB  2020-01-01          0                     0   \n",
       "4          CE  2020-01-01          1                     0   \n",
       "...       ...         ...        ...                   ...   \n",
       "7424       ML  2021-01-25          0                     0   \n",
       "7425       NC  2021-01-25          0                     0   \n",
       "7426       PV  2021-01-25          0                     0   \n",
       "7427       RI  2021-01-25          0                     0   \n",
       "7428       VC  2021-01-25        108                    84   \n",
       "\n",
       "      num_casos_prueba_test_ac  num_casos_prueba_ag  num_casos_prueba_elisa  \\\n",
       "0                            0                    0                       0   \n",
       "1                            0                    0                       0   \n",
       "2                            0                    0                       0   \n",
       "3                            0                    0                       0   \n",
       "4                            0                    1                       0   \n",
       "...                        ...                  ...                     ...   \n",
       "7424                         0                    0                       0   \n",
       "7425                         0                    0                       0   \n",
       "7426                         0                    0                       0   \n",
       "7427                         0                    0                       0   \n",
       "7428                         0                   24                       0   \n",
       "\n",
       "      num_casos_prueba_desconocida  \n",
       "0                                0  \n",
       "1                                0  \n",
       "2                                0  \n",
       "3                                0  \n",
       "4                                0  \n",
       "...                            ...  \n",
       "7424                             0  \n",
       "7425                             0  \n",
       "7426                             0  \n",
       "7427                             0  \n",
       "7428                             0  \n",
       "\n",
       "[7429 rows x 8 columns]"
      ]
     },
     "execution_count": 6,
     "metadata": {},
     "output_type": "execute_result"
    }
   ],
   "source": [
    "df"
   ]
  },
  {
   "cell_type": "code",
   "execution_count": 7,
   "id": "4c534c7c",
   "metadata": {},
   "outputs": [
    {
     "data": {
      "text/plain": [
       "(7429, 8)"
      ]
     },
     "execution_count": 7,
     "metadata": {},
     "output_type": "execute_result"
    }
   ],
   "source": [
    "df.shape"
   ]
  },
  {
   "cell_type": "code",
   "execution_count": 8,
   "id": "1df43a4c",
   "metadata": {},
   "outputs": [
    {
     "data": {
      "text/html": [
       "<div>\n",
       "<style scoped>\n",
       "    .dataframe tbody tr th:only-of-type {\n",
       "        vertical-align: middle;\n",
       "    }\n",
       "\n",
       "    .dataframe tbody tr th {\n",
       "        vertical-align: top;\n",
       "    }\n",
       "\n",
       "    .dataframe thead th {\n",
       "        text-align: right;\n",
       "    }\n",
       "</style>\n",
       "<table border=\"1\" class=\"dataframe\">\n",
       "  <thead>\n",
       "    <tr style=\"text-align: right;\">\n",
       "      <th></th>\n",
       "      <th>ccaa_iso</th>\n",
       "      <th>fecha</th>\n",
       "      <th>num_casos</th>\n",
       "      <th>num_casos_prueba_pcr</th>\n",
       "      <th>num_casos_prueba_test_ac</th>\n",
       "      <th>num_casos_prueba_ag</th>\n",
       "      <th>num_casos_prueba_elisa</th>\n",
       "      <th>num_casos_prueba_desconocida</th>\n",
       "    </tr>\n",
       "  </thead>\n",
       "  <tbody>\n",
       "    <tr>\n",
       "      <th>1968</th>\n",
       "      <td>IB</td>\n",
       "      <td>2020-04-13</td>\n",
       "      <td>13</td>\n",
       "      <td>10</td>\n",
       "      <td>3</td>\n",
       "      <td>0</td>\n",
       "      <td>0</td>\n",
       "      <td>0</td>\n",
       "    </tr>\n",
       "    <tr>\n",
       "      <th>6554</th>\n",
       "      <td>VC</td>\n",
       "      <td>2020-12-10</td>\n",
       "      <td>1592</td>\n",
       "      <td>1264</td>\n",
       "      <td>0</td>\n",
       "      <td>328</td>\n",
       "      <td>0</td>\n",
       "      <td>0</td>\n",
       "    </tr>\n",
       "    <tr>\n",
       "      <th>2847</th>\n",
       "      <td>PV</td>\n",
       "      <td>2020-05-29</td>\n",
       "      <td>11</td>\n",
       "      <td>3</td>\n",
       "      <td>0</td>\n",
       "      <td>8</td>\n",
       "      <td>0</td>\n",
       "      <td>0</td>\n",
       "    </tr>\n",
       "  </tbody>\n",
       "</table>\n",
       "</div>"
      ],
      "text/plain": [
       "     ccaa_iso       fecha  num_casos  num_casos_prueba_pcr  \\\n",
       "1968       IB  2020-04-13         13                    10   \n",
       "6554       VC  2020-12-10       1592                  1264   \n",
       "2847       PV  2020-05-29         11                     3   \n",
       "\n",
       "      num_casos_prueba_test_ac  num_casos_prueba_ag  num_casos_prueba_elisa  \\\n",
       "1968                         3                    0                       0   \n",
       "6554                         0                  328                       0   \n",
       "2847                         0                    8                       0   \n",
       "\n",
       "      num_casos_prueba_desconocida  \n",
       "1968                             0  \n",
       "6554                             0  \n",
       "2847                             0  "
      ]
     },
     "execution_count": 8,
     "metadata": {},
     "output_type": "execute_result"
    }
   ],
   "source": [
    "df.sample(3)"
   ]
  },
  {
   "cell_type": "code",
   "execution_count": 9,
   "id": "52319f2e",
   "metadata": {},
   "outputs": [
    {
     "name": "stdout",
     "output_type": "stream",
     "text": [
      "<class 'pandas.core.frame.DataFrame'>\n",
      "RangeIndex: 7429 entries, 0 to 7428\n",
      "Data columns (total 8 columns):\n",
      " #   Column                        Non-Null Count  Dtype \n",
      "---  ------                        --------------  ----- \n",
      " 0   ccaa_iso                      7429 non-null   object\n",
      " 1   fecha                         7429 non-null   object\n",
      " 2   num_casos                     7429 non-null   int64 \n",
      " 3   num_casos_prueba_pcr          7429 non-null   int64 \n",
      " 4   num_casos_prueba_test_ac      7429 non-null   int64 \n",
      " 5   num_casos_prueba_ag           7429 non-null   int64 \n",
      " 6   num_casos_prueba_elisa        7429 non-null   int64 \n",
      " 7   num_casos_prueba_desconocida  7429 non-null   int64 \n",
      "dtypes: int64(6), object(2)\n",
      "memory usage: 464.4+ KB\n"
     ]
    }
   ],
   "source": [
    "df.info()"
   ]
  },
  {
   "cell_type": "code",
   "execution_count": 10,
   "id": "16cd6f73",
   "metadata": {},
   "outputs": [],
   "source": [
    "ccaa = df.groupby('ccaa_iso')['num_casos'].sum()"
   ]
  },
  {
   "cell_type": "code",
   "execution_count": 11,
   "id": "4ae5cf19",
   "metadata": {},
   "outputs": [
    {
     "data": {
      "text/plain": [
       "ccaa_iso\n",
       "AN    368252\n",
       "AR     93985\n",
       "AS     33781\n",
       "CB     21694\n",
       "CE      3758\n",
       "CL    174047\n",
       "CM    139568\n",
       "CN     33713\n",
       "CT    473298\n",
       "EX     61175\n",
       "GA     86809\n",
       "IB     49611\n",
       "MC     90861\n",
       "MD    493480\n",
       "ML      5673\n",
       "NC     47106\n",
       "PV    128175\n",
       "RI     23899\n",
       "VC    271473\n",
       "Name: num_casos, dtype: int64"
      ]
     },
     "execution_count": 11,
     "metadata": {},
     "output_type": "execute_result"
    }
   ],
   "source": [
    "ccaa"
   ]
  },
  {
   "cell_type": "code",
   "execution_count": 12,
   "id": "6dae6262",
   "metadata": {},
   "outputs": [
    {
     "data": {
      "text/html": [
       "<div>\n",
       "<style scoped>\n",
       "    .dataframe tbody tr th:only-of-type {\n",
       "        vertical-align: middle;\n",
       "    }\n",
       "\n",
       "    .dataframe tbody tr th {\n",
       "        vertical-align: top;\n",
       "    }\n",
       "\n",
       "    .dataframe thead th {\n",
       "        text-align: right;\n",
       "    }\n",
       "</style>\n",
       "<table border=\"1\" class=\"dataframe\">\n",
       "  <thead>\n",
       "    <tr style=\"text-align: right;\">\n",
       "      <th></th>\n",
       "      <th>ccaa_iso</th>\n",
       "      <th>fecha</th>\n",
       "      <th>num_casos</th>\n",
       "      <th>num_casos_prueba_pcr</th>\n",
       "      <th>num_casos_prueba_test_ac</th>\n",
       "      <th>num_casos_prueba_ag</th>\n",
       "      <th>num_casos_prueba_elisa</th>\n",
       "      <th>num_casos_prueba_desconocida</th>\n",
       "    </tr>\n",
       "  </thead>\n",
       "  <tbody>\n",
       "    <tr>\n",
       "      <th>12</th>\n",
       "      <td>MC</td>\n",
       "      <td>2020-01-01</td>\n",
       "      <td>0</td>\n",
       "      <td>0</td>\n",
       "      <td>0</td>\n",
       "      <td>0</td>\n",
       "      <td>0</td>\n",
       "      <td>0</td>\n",
       "    </tr>\n",
       "    <tr>\n",
       "      <th>31</th>\n",
       "      <td>MC</td>\n",
       "      <td>2020-01-02</td>\n",
       "      <td>0</td>\n",
       "      <td>0</td>\n",
       "      <td>0</td>\n",
       "      <td>0</td>\n",
       "      <td>0</td>\n",
       "      <td>0</td>\n",
       "    </tr>\n",
       "    <tr>\n",
       "      <th>50</th>\n",
       "      <td>MC</td>\n",
       "      <td>2020-01-03</td>\n",
       "      <td>0</td>\n",
       "      <td>0</td>\n",
       "      <td>0</td>\n",
       "      <td>0</td>\n",
       "      <td>0</td>\n",
       "      <td>0</td>\n",
       "    </tr>\n",
       "    <tr>\n",
       "      <th>69</th>\n",
       "      <td>MC</td>\n",
       "      <td>2020-01-04</td>\n",
       "      <td>0</td>\n",
       "      <td>0</td>\n",
       "      <td>0</td>\n",
       "      <td>0</td>\n",
       "      <td>0</td>\n",
       "      <td>0</td>\n",
       "    </tr>\n",
       "    <tr>\n",
       "      <th>88</th>\n",
       "      <td>MC</td>\n",
       "      <td>2020-01-05</td>\n",
       "      <td>0</td>\n",
       "      <td>0</td>\n",
       "      <td>0</td>\n",
       "      <td>0</td>\n",
       "      <td>0</td>\n",
       "      <td>0</td>\n",
       "    </tr>\n",
       "    <tr>\n",
       "      <th>...</th>\n",
       "      <td>...</td>\n",
       "      <td>...</td>\n",
       "      <td>...</td>\n",
       "      <td>...</td>\n",
       "      <td>...</td>\n",
       "      <td>...</td>\n",
       "      <td>...</td>\n",
       "      <td>...</td>\n",
       "    </tr>\n",
       "    <tr>\n",
       "      <th>7346</th>\n",
       "      <td>MC</td>\n",
       "      <td>2021-01-21</td>\n",
       "      <td>747</td>\n",
       "      <td>358</td>\n",
       "      <td>2</td>\n",
       "      <td>387</td>\n",
       "      <td>0</td>\n",
       "      <td>0</td>\n",
       "    </tr>\n",
       "    <tr>\n",
       "      <th>7365</th>\n",
       "      <td>MC</td>\n",
       "      <td>2021-01-22</td>\n",
       "      <td>528</td>\n",
       "      <td>320</td>\n",
       "      <td>1</td>\n",
       "      <td>206</td>\n",
       "      <td>0</td>\n",
       "      <td>1</td>\n",
       "    </tr>\n",
       "    <tr>\n",
       "      <th>7384</th>\n",
       "      <td>MC</td>\n",
       "      <td>2021-01-23</td>\n",
       "      <td>281</td>\n",
       "      <td>219</td>\n",
       "      <td>0</td>\n",
       "      <td>61</td>\n",
       "      <td>0</td>\n",
       "      <td>1</td>\n",
       "    </tr>\n",
       "    <tr>\n",
       "      <th>7403</th>\n",
       "      <td>MC</td>\n",
       "      <td>2021-01-24</td>\n",
       "      <td>55</td>\n",
       "      <td>52</td>\n",
       "      <td>0</td>\n",
       "      <td>3</td>\n",
       "      <td>0</td>\n",
       "      <td>0</td>\n",
       "    </tr>\n",
       "    <tr>\n",
       "      <th>7422</th>\n",
       "      <td>MC</td>\n",
       "      <td>2021-01-25</td>\n",
       "      <td>0</td>\n",
       "      <td>0</td>\n",
       "      <td>0</td>\n",
       "      <td>0</td>\n",
       "      <td>0</td>\n",
       "      <td>0</td>\n",
       "    </tr>\n",
       "  </tbody>\n",
       "</table>\n",
       "<p>391 rows × 8 columns</p>\n",
       "</div>"
      ],
      "text/plain": [
       "     ccaa_iso       fecha  num_casos  num_casos_prueba_pcr  \\\n",
       "12         MC  2020-01-01          0                     0   \n",
       "31         MC  2020-01-02          0                     0   \n",
       "50         MC  2020-01-03          0                     0   \n",
       "69         MC  2020-01-04          0                     0   \n",
       "88         MC  2020-01-05          0                     0   \n",
       "...       ...         ...        ...                   ...   \n",
       "7346       MC  2021-01-21        747                   358   \n",
       "7365       MC  2021-01-22        528                   320   \n",
       "7384       MC  2021-01-23        281                   219   \n",
       "7403       MC  2021-01-24         55                    52   \n",
       "7422       MC  2021-01-25          0                     0   \n",
       "\n",
       "      num_casos_prueba_test_ac  num_casos_prueba_ag  num_casos_prueba_elisa  \\\n",
       "12                           0                    0                       0   \n",
       "31                           0                    0                       0   \n",
       "50                           0                    0                       0   \n",
       "69                           0                    0                       0   \n",
       "88                           0                    0                       0   \n",
       "...                        ...                  ...                     ...   \n",
       "7346                         2                  387                       0   \n",
       "7365                         1                  206                       0   \n",
       "7384                         0                   61                       0   \n",
       "7403                         0                    3                       0   \n",
       "7422                         0                    0                       0   \n",
       "\n",
       "      num_casos_prueba_desconocida  \n",
       "12                               0  \n",
       "31                               0  \n",
       "50                               0  \n",
       "69                               0  \n",
       "88                               0  \n",
       "...                            ...  \n",
       "7346                             0  \n",
       "7365                             1  \n",
       "7384                             1  \n",
       "7403                             0  \n",
       "7422                             0  \n",
       "\n",
       "[391 rows x 8 columns]"
      ]
     },
     "execution_count": 12,
     "metadata": {},
     "output_type": "execute_result"
    }
   ],
   "source": [
    "df[df.ccaa_iso== 'MC']"
   ]
  },
  {
   "cell_type": "code",
   "execution_count": 13,
   "id": "7119f15e",
   "metadata": {},
   "outputs": [
    {
     "data": {
      "text/plain": [
       "ccaa_iso                        7429\n",
       "fecha                           7429\n",
       "num_casos                       7429\n",
       "num_casos_prueba_pcr            7429\n",
       "num_casos_prueba_test_ac        7429\n",
       "num_casos_prueba_ag             7429\n",
       "num_casos_prueba_elisa          7429\n",
       "num_casos_prueba_desconocida    7429\n",
       "dtype: int64"
      ]
     },
     "execution_count": 13,
     "metadata": {},
     "output_type": "execute_result"
    }
   ],
   "source": [
    "df.count()"
   ]
  },
  {
   "cell_type": "code",
   "execution_count": 14,
   "id": "6ce14078",
   "metadata": {},
   "outputs": [
    {
     "name": "stderr",
     "output_type": "stream",
     "text": [
      "C:\\Users\\p-aangel\\AppData\\Local\\Temp/ipykernel_15276/3390915376.py:1: FutureWarning: Dropping of nuisance columns in DataFrame reductions (with 'numeric_only=None') is deprecated; in a future version this will raise TypeError.  Select only valid columns before calling the reduction.\n",
      "  df.std()\n"
     ]
    },
    {
     "data": {
      "text/plain": [
       "num_casos                       757.003131\n",
       "num_casos_prueba_pcr            616.519879\n",
       "num_casos_prueba_test_ac          4.487353\n",
       "num_casos_prueba_ag             238.479411\n",
       "num_casos_prueba_elisa            3.619920\n",
       "num_casos_prueba_desconocida      2.450147\n",
       "dtype: float64"
      ]
     },
     "execution_count": 14,
     "metadata": {},
     "output_type": "execute_result"
    }
   ],
   "source": [
    "df.std()"
   ]
  },
  {
   "cell_type": "code",
   "execution_count": 18,
   "id": "395c5ad3",
   "metadata": {},
   "outputs": [
    {
     "data": {
      "text/plain": [
       "<AxesSubplot:xlabel='ccaa_iso'>"
      ]
     },
     "execution_count": 18,
     "metadata": {},
     "output_type": "execute_result"
    },
    {
     "data": {
      "image/png": "[encoded data removed]",
      "text/plain": [
       "<Figure size 432x288 with 1 Axes>"
      ]
     },
     "metadata": {
      "needs_background": "light"
     },
     "output_type": "display_data"
    }
   ],
   "source": []
  },
  {
   "cell_type": "code",
   "execution_count": 19,
   "id": "88c41445",
   "metadata": {},
   "outputs": [
    {
     "data": {
      "text/plain": [
       "ccaa_iso\n",
       "AN    368252\n",
       "AR     93985\n",
       "AS     33781\n",
       "CB     21694\n",
       "CE      3758\n",
       "CL    174047\n",
       "CM    139568\n",
       "CN     33713\n",
       "CT    473298\n",
       "EX     61175\n",
       "GA     86809\n",
       "IB     49611\n",
       "MC     90861\n",
       "MD    493480\n",
       "ML      5673\n",
       "NC     47106\n",
       "PV    128175\n",
       "RI     23899\n",
       "VC    271473\n",
       "Name: num_casos, dtype: int64"
      ]
     },
     "execution_count": 19,
     "metadata": {},
     "output_type": "execute_result"
    }
   ],
   "source": []
  },
  {
   "cell_type": "code",
   "execution_count": 20,
   "id": "3a71f30f",
   "metadata": {},
   "outputs": [
    {
     "data": {
      "text/html": [
       "<div>\n",
       "<style scoped>\n",
       "    .dataframe tbody tr th:only-of-type {\n",
       "        vertical-align: middle;\n",
       "    }\n",
       "\n",
       "    .dataframe tbody tr th {\n",
       "        vertical-align: top;\n",
       "    }\n",
       "\n",
       "    .dataframe thead th {\n",
       "        text-align: right;\n",
       "    }\n",
       "</style>\n",
       "<table border=\"1\" class=\"dataframe\">\n",
       "  <thead>\n",
       "    <tr style=\"text-align: right;\">\n",
       "      <th></th>\n",
       "      <th>num_casos</th>\n",
       "      <th>fecha</th>\n",
       "      <th>ccaa_iso</th>\n",
       "    </tr>\n",
       "  </thead>\n",
       "  <tbody>\n",
       "    <tr>\n",
       "      <th>7238</th>\n",
       "      <td>7011</td>\n",
       "      <td>2021-01-15</td>\n",
       "      <td>VC</td>\n",
       "    </tr>\n",
       "  </tbody>\n",
       "</table>\n",
       "</div>"
      ],
      "text/plain": [
       "      num_casos       fecha ccaa_iso\n",
       "7238       7011  2021-01-15       VC"
      ]
     },
     "execution_count": 20,
     "metadata": {},
     "output_type": "execute_result"
    }
   ],
   "source": [
    "max_casos= df['num_casos'].max()\n",
    "cols= ['num_casos', 'fecha', 'ccaa_iso']\n",
    "df[df.num_casos==max_casos][cols]"
   ]
  },
  {
   "cell_type": "code",
   "execution_count": 21,
   "id": "cffb5cfc",
   "metadata": {},
   "outputs": [],
   "source": [
    "max_casos= df['num_casos'].max()"
   ]
  },
  {
   "cell_type": "code",
   "execution_count": 22,
   "id": "eaba7710",
   "metadata": {},
   "outputs": [
    {
     "data": {
      "text/plain": [
       "7011"
      ]
     },
     "execution_count": 22,
     "metadata": {},
     "output_type": "execute_result"
    }
   ],
   "source": [
    "max_casos"
   ]
  },
  {
   "cell_type": "code",
   "execution_count": null,
   "id": "28f3fe4d",
   "metadata": {},
   "outputs": [],
   "source": []
  }
 ],
 "metadata": {
  "kernelspec": {
   "display_name": "Python 3 (ipykernel)",
   "language": "python",
   "name": "python3"
  },
  "language_info": {
   "codemirror_mode": {
    "name": "ipython",
    "version": 3
   },
   "file_extension": ".py",
   "mimetype": "text/x-python",
   "name": "python",
   "nbconvert_exporter": "python",
   "pygments_lexer": "ipython3",
   "version": "3.9.7"
  }
 },
 "nbformat": 4,
 "nbformat_minor": 5
}
